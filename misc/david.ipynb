{
 "metadata": {
  "language_info": {
   "codemirror_mode": {
    "name": "ipython",
    "version": 3
   },
   "file_extension": ".py",
   "mimetype": "text/x-python",
   "name": "python",
   "nbconvert_exporter": "python",
   "pygments_lexer": "ipython3",
   "version": "3.8.5-final"
  },
  "orig_nbformat": 2,
  "kernelspec": {
   "name": "python385jvsc74a57bd0ecf5722fdaf1897a315d257d89d94520bfcaa453217d5becf09b39e73618b0de",
   "display_name": "Python 3.8.5 64-bit (conda)"
  }
 },
 "nbformat": 4,
 "nbformat_minor": 2,
 "cells": [
  {
   "cell_type": "code",
   "execution_count": 69,
   "metadata": {},
   "outputs": [],
   "source": [
    "from itertools import product, combinations"
   ]
  },
  {
   "cell_type": "code",
   "execution_count": 70,
   "metadata": {},
   "outputs": [],
   "source": [
    "lists = [['a','b','c'], ['1','2','3','4'], ['x','y','z']]"
   ]
  },
  {
   "cell_type": "code",
   "execution_count": 71,
   "metadata": {},
   "outputs": [
    {
     "output_type": "stream",
     "name": "stdout",
     "text": [
      "[('a', '1'), ('a', '2'), ('a', '3'), ('a', '4'), ('b', '1'), ('b', '2'), ('b', '3'), ('b', '4'), ('c', '1'), ('c', '2'), ('c', '3'), ('c', '4')]\n[('a', 'x'), ('a', 'y'), ('a', 'z'), ('b', 'x'), ('b', 'y'), ('b', 'z'), ('c', 'x'), ('c', 'y'), ('c', 'z')]\n[('1', 'x'), ('1', 'y'), ('1', 'z'), ('2', 'x'), ('2', 'y'), ('2', 'z'), ('3', 'x'), ('3', 'y'), ('3', 'z'), ('4', 'x'), ('4', 'y'), ('4', 'z')]\n[('a', '1', 'x'), ('a', '1', 'y'), ('a', '1', 'z'), ('a', '2', 'x'), ('a', '2', 'y'), ('a', '2', 'z'), ('a', '3', 'x'), ('a', '3', 'y'), ('a', '3', 'z'), ('a', '4', 'x'), ('a', '4', 'y'), ('a', '4', 'z'), ('b', '1', 'x'), ('b', '1', 'y'), ('b', '1', 'z'), ('b', '2', 'x'), ('b', '2', 'y'), ('b', '2', 'z'), ('b', '3', 'x'), ('b', '3', 'y'), ('b', '3', 'z'), ('b', '4', 'x'), ('b', '4', 'y'), ('b', '4', 'z'), ('c', '1', 'x'), ('c', '1', 'y'), ('c', '1', 'z'), ('c', '2', 'x'), ('c', '2', 'y'), ('c', '2', 'z'), ('c', '3', 'x'), ('c', '3', 'y'), ('c', '3', 'z'), ('c', '4', 'x'), ('c', '4', 'y'), ('c', '4', 'z')]\n"
     ]
    }
   ],
   "source": [
    "for i in range(2, len(lists) + 1):\n",
    "    for c in combinations(lists, i):\n",
    "        print(list(product(*c)))"
   ]
  },
  {
   "cell_type": "code",
   "execution_count": null,
   "metadata": {},
   "outputs": [],
   "source": []
  }
 ]
}