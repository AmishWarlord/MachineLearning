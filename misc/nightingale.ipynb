{
 "metadata": {
  "language_info": {
   "codemirror_mode": {
    "name": "ipython",
    "version": 3
   },
   "file_extension": ".py",
   "mimetype": "text/x-python",
   "name": "python",
   "nbconvert_exporter": "python",
   "pygments_lexer": "ipython3",
   "version": "3.8.5-final"
  },
  "orig_nbformat": 2,
  "kernelspec": {
   "name": "python3",
   "display_name": "Python 3",
   "language": "python"
  }
 },
 "nbformat": 4,
 "nbformat_minor": 2,
 "cells": [
  {
   "cell_type": "code",
   "execution_count": 6,
   "metadata": {},
   "outputs": [],
   "source": [
    "import numpy as np\n",
    "import pandas as pd\n",
    "import random"
   ]
  },
  {
   "cell_type": "code",
   "execution_count": 7,
   "metadata": {},
   "outputs": [],
   "source": [
    "def bet(amount, house_adv=.52):\n",
    "    winnings = 0\n",
    "    chance = random.random()\n",
    "    if chance > house_adv:\n",
    "        winnings = amount * 2\n",
    "    return winnings"
   ]
  },
  {
   "cell_type": "code",
   "execution_count": 8,
   "metadata": {},
   "outputs": [],
   "source": [
    "def gamble(amount):\n",
    "    winnings = bet(amount=amount)\n",
    "    cash += winnings\n",
    "    return cash"
   ]
  },
  {
   "cell_type": "code",
   "execution_count": 15,
   "metadata": {},
   "outputs": [],
   "source": [
    "def go_to_casino(starting_cash, starting_amount, num_gambles, num_iters):\n",
    "    cash = starting_cash\n",
    "    amount = starting_amount\n",
    "    record = []\n",
    "    for _ in range(num_gambles):\n",
    "        for _ in range(num_iters):\n",
    "            if cash <= 0:\n",
    "                cash = 0\n",
    "                break\n",
    "            cash -= amount\n",
    "            winnings = bet(amount=amount)\n",
    "            cash += winnings\n",
    "            if winnings == 0:\n",
    "                amount *= 2\n",
    "            else:\n",
    "                amount = starting_amount\n",
    "        record.append(cash)\n",
    "        cash = starting_cash\n",
    "        amount = starting_amount\n",
    "    return np.array(record, dtype=float)"
   ]
  },
  {
   "cell_type": "code",
   "execution_count": 20,
   "metadata": {},
   "outputs": [
    {
     "output_type": "execute_result",
     "data": {
      "text/plain": [
       "38.43235"
      ]
     },
     "metadata": {},
     "execution_count": 20
    }
   ],
   "source": [
    "record = go_to_casino(starting_cash=100, starting_amount=5, num_gambles=100000, num_iters=100000)\n",
    "record.mean()"
   ]
  },
  {
   "cell_type": "code",
   "execution_count": null,
   "metadata": {},
   "outputs": [],
   "source": []
  }
 ]
}