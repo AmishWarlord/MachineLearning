{
 "metadata": {
  "language_info": {
   "codemirror_mode": {
    "name": "ipython",
    "version": 3
   },
   "file_extension": ".py",
   "mimetype": "text/x-python",
   "name": "python",
   "nbconvert_exporter": "python",
   "pygments_lexer": "ipython3",
   "version": "3.8.8"
  },
  "orig_nbformat": 2,
  "kernelspec": {
   "name": "python388jvsc74a57bd0ecf5722fdaf1897a315d257d89d94520bfcaa453217d5becf09b39e73618b0de",
   "display_name": "Python 3.8.8 64-bit (conda)"
  }
 },
 "nbformat": 4,
 "nbformat_minor": 2,
 "cells": [
  {
   "cell_type": "code",
   "execution_count": 80,
   "metadata": {},
   "outputs": [],
   "source": [
    "import numpy as np\n",
    "import random"
   ]
  },
  {
   "cell_type": "code",
   "execution_count": 81,
   "metadata": {},
   "outputs": [],
   "source": [
    "def seed_everything(seed):\n",
    "    random.seed = seed"
   ]
  },
  {
   "cell_type": "code",
   "execution_count": 82,
   "metadata": {},
   "outputs": [],
   "source": [
    "dims = 3 # number of dimensions\n",
    "\n",
    "x_min, x_max = 0, 600 # how many pixels wide the image will be\n",
    "y_min, y_max = 0, 400 # how many pixels tall the image will be\n",
    "z_min, z_max = 0, 0"
   ]
  },
  {
   "cell_type": "code",
   "execution_count": 83,
   "metadata": {},
   "outputs": [],
   "source": [
    "all_directions = [\n",
    "    np.array([1,1,0], dtype=np.int8),\n",
    "    np.array([-1,1,0], dtype=np.int8),\n",
    "    np.array([1,-1,0], dtype=np.int8),\n",
    "    np.array([-1,-1,0], dtype=np.int8),\n",
    "    np.array([1,0,1], dtype=np.int8),\n",
    "    np.array([-1,0,1], dtype=np.int8),\n",
    "    np.array([1,0,-1], dtype=np.int8),\n",
    "    np.array([-1,0,-1], dtype=np.int8),\n",
    "    np.array([0,1,1], dtype=np.int8),\n",
    "    np.array([0,-1,1], dtype=np.int8),\n",
    "    np.array([0,1,-1], dtype=np.int8),\n",
    "    np.array([0,-1,-1], dtype=np.int8),\n",
    "    # add improved perlin directions below:\n",
    "    np.array([1,1,0], dtype=np.int8),\n",
    "    np.array([-1,1,0], dtype=np.int8),\n",
    "    np.array([0,-1,1], dtype=np.int8),\n",
    "    np.array([0,-1,-1], dtype=np.int8)\n",
    "]"
   ]
  },
  {
   "cell_type": "code",
   "execution_count": 84,
   "metadata": {},
   "outputs": [
    {
     "output_type": "execute_result",
     "data": {
      "text/plain": [
       "(600, 400, 0)"
      ]
     },
     "metadata": {},
     "execution_count": 84
    }
   ],
   "source": [
    "corners = [\n",
    "    np.array([x_min, y_min, z_min]),\n",
    "    np.array([x_max, y_min, z_min]),\n",
    "    np.array([x_min, y_max, z_min]),\n",
    "    np.array([x_max, y_max, z_min]),\n",
    "    np.array([x_min, y_min, z_max]),\n",
    "    np.array([x_max, y_min, z_max]),\n",
    "    np.array([x_min, y_max, z_max]),\n",
    "    np.array([x_max, y_max, z_max])\n",
    "]\n",
    "\n",
    "pixels = np.zeros((x_max - x_min, y_max - y_min, z_max - z_min), dtype=np.int8)\n",
    "pixels.shape"
   ]
  },
  {
   "cell_type": "code",
   "execution_count": 104,
   "metadata": {},
   "outputs": [],
   "source": [
    "def ease_curve(coordinate):\n",
    "    return 3 * coordinate ** 2 - 2 * coordinate ** 3"
   ]
  },
  {
   "cell_type": "code",
   "execution_count": 96,
   "metadata": {},
   "outputs": [],
   "source": [
    "def get_perlin_noise(coordinate):\n",
    "    gradients = [random.choice(all_directions) for _ in range(2 ** dims)]\n",
    "    dot_products = [np.dot(grad, (coordinate - corner)) for grad, corner in zip(gradients, corners)]\n",
    "    "
   ]
  },
  {
   "cell_type": "code",
   "execution_count": 97,
   "metadata": {},
   "outputs": [
    {
     "output_type": "execute_result",
     "data": {
      "text/plain": [
       "[2, 601, -1, 999, -2, -2, 398, -398]"
      ]
     },
     "metadata": {},
     "execution_count": 97
    }
   ],
   "source": [
    "get_perlin_noise(np.array([-1, 2, 0]))"
   ]
  },
  {
   "cell_type": "code",
   "execution_count": null,
   "metadata": {},
   "outputs": [],
   "source": []
  }
 ]
}