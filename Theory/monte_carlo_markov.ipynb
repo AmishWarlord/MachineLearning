{
  "nbformat": 4,
  "nbformat_minor": 0,
  "metadata": {
    "colab": {
      "name": "monte_carlo_markov.ipynb",
      "provenance": [],
      "collapsed_sections": []
    },
    "kernelspec": {
      "name": "python3",
      "display_name": "Python 3"
    }
  },
  "cells": [
    {
      "cell_type": "code",
      "metadata": {
        "id": "nfKHY5RmymEC"
      },
      "source": [
        "import os\n",
        "import numpy as np\n",
        "import pandas as pd\n",
        "import matplotlib.pyplot as plt\n",
        "import seaborn as sns\n",
        "import math\n",
        "import random\n",
        "from typing import Union, Optional, Dict"
      ],
      "execution_count": null,
      "outputs": []
    },
    {
      "cell_type": "code",
      "metadata": {
        "id": "kYKmt5zG0lMi"
      },
      "source": [
        "def seed_everything(seed=0):\n",
        "    random.seed(seed)\n",
        "    np.random.seed(seed)\n",
        "    os.environ['PYTHONHASHSEED'] = str(seed)"
      ],
      "execution_count": null,
      "outputs": []
    },
    {
      "cell_type": "code",
      "metadata": {
        "id": "B2DOxG0K02OS"
      },
      "source": [
        "seed = 69\n",
        "seed_everything(seed=seed)"
      ],
      "execution_count": null,
      "outputs": []
    },
    {
      "cell_type": "code",
      "metadata": {
        "id": "j6ujb1A4y2rH"
      },
      "source": [
        "class Node:\n",
        "    def __init__(self, reward:Union[int, float], children:Optional[Dict[str, float]]=None):\n",
        "        self.reward = reward\n",
        "        self.terminal = children is None\n",
        "        self.children = children\n",
        "\n",
        "    def transition(self):\n",
        "        output_name = None\n",
        "        if self.terminal: return output_name\n",
        "        roll = random.random()\n",
        "        total = 0\n",
        "        for node in self.children.keys():\n",
        "            output_name = node\n",
        "            total += self.children[node]\n",
        "            if total >= roll: return output_name\n",
        "        return output_name"
      ],
      "execution_count": null,
      "outputs": []
    },
    {
      "cell_type": "code",
      "metadata": {
        "id": "s2075nOM73fV"
      },
      "source": [
        "class CavesPaths:\n",
        "    def __init__(self, default_paths:Optional[Dict[str,float]]=None, node_params:Optional[dict]=None):\n",
        "        if default_paths is None: \n",
        "            default_paths = {\n",
        "                'A': .5,\n",
        "                'B': .3,\n",
        "                'C': .2\n",
        "            }\n",
        "        if node_params is None:\n",
        "            node_params = {\n",
        "                'start': (0, default_paths),\n",
        "                'A': (2, default_paths),\n",
        "                'B': (1, default_paths),\n",
        "                'C': (0, None)\n",
        "            }\n",
        "\n",
        "        self.default_paths = default_paths\n",
        "        self.node_params = node_params\n",
        "\n",
        "    def build_node(self, name:str) -> Node:\n",
        "        return Node(*self.node_params[name])\n",
        "\n",
        "    def build_path(self):\n",
        "        node = self.build_node('start')\n",
        "        distance = node.reward\n",
        "        paths = []\n",
        "        while node is not None:\n",
        "            next_node_name = node.transition()\n",
        "            if next_node_name is None: break\n",
        "            paths.append(next_node_name)\n",
        "            node = self.build_node(next_node_name)\n",
        "            distance += node.reward\n",
        "        return paths, distance"
      ],
      "execution_count": null,
      "outputs": []
    },
    {
      "cell_type": "code",
      "metadata": {
        "id": "dOFocLmz3b3n"
      },
      "source": [
        "caves_paths = CavesPaths()"
      ],
      "execution_count": null,
      "outputs": []
    },
    {
      "cell_type": "code",
      "metadata": {
        "colab": {
          "base_uri": "https://localhost:8080/"
        },
        "id": "Sy_GSFBGO3Fq",
        "outputId": "f07f34a9-67e4-4aa7-fbf6-ba08f155c885"
      },
      "source": [
        "for _ in range(5):\n",
        "    path, distance = caves_paths.build_path()\n",
        "    print(f'distance traveled: {distance}\\n\\tpath: {path}')"
      ],
      "execution_count": null,
      "outputs": [
        {
          "output_type": "stream",
          "text": [
            "distance traveled: 8\n",
            "\tpath: ['B', 'A', 'A', 'B', 'A', 'C']\n",
            "distance traveled: 1\n",
            "\tpath: ['B', 'C']\n",
            "distance traveled: 2\n",
            "\tpath: ['A', 'C']\n",
            "distance traveled: 1\n",
            "\tpath: ['B', 'C']\n",
            "distance traveled: 21\n",
            "\tpath: ['A', 'B', 'A', 'A', 'A', 'A', 'A', 'A', 'A', 'B', 'B', 'B', 'B', 'C']\n"
          ],
          "name": "stdout"
        }
      ]
    },
    {
      "cell_type": "code",
      "metadata": {
        "id": "iiNFZn1JUkn6"
      },
      "source": [
        "# we want to know the probability that AAB appears in the sequence and \n",
        "# it appears before any BAA appears\n",
        "def check_aab(path):\n",
        "    assert type(path) == list\n",
        "    if len(path) < 4: return False\n",
        "    for i in range(len(path) - 3):\n",
        "        phrase = path[i] + path[i+1] + path[i+2]\n",
        "        if phrase == 'AAB' : return True\n",
        "        if phrase == 'BAA' : return False\n",
        "    return False"
      ],
      "execution_count": null,
      "outputs": []
    },
    {
      "cell_type": "code",
      "metadata": {
        "id": "2EnIgaFRO-B8"
      },
      "source": [
        "def create_data(m:int=10000000) -> pd.DataFrame:\n",
        "    paths = []\n",
        "    distances = []\n",
        "\n",
        "    for _ in range(m):\n",
        "        path, distance = caves_paths.build_path()\n",
        "        paths.append(path)\n",
        "        distances.append(distance)\n",
        "\n",
        "    paths = pd.Series(paths)\n",
        "    distances = pd.Series(distances, dtype=int)\n",
        "\n",
        "    df = pd.DataFrame({\n",
        "        'paths':paths,\n",
        "        'days':distances\n",
        "    })\n",
        "\n",
        "    targets = []\n",
        "    for i in range(m):\n",
        "        has_aab = 1 if check_aab(paths[i]) else 0\n",
        "        targets.append(has_aab)\n",
        "\n",
        "    targets = pd.Series(targets, dtype=int)\n",
        "    df['target'] = targets\n",
        "\n",
        "    return df"
      ],
      "execution_count": null,
      "outputs": []
    },
    {
      "cell_type": "code",
      "metadata": {
        "id": "cysAhA10RjyX"
      },
      "source": [
        "df = create_data()"
      ],
      "execution_count": null,
      "outputs": []
    },
    {
      "cell_type": "code",
      "metadata": {
        "id": "RGrrgCyeSqkb"
      },
      "source": [
        "df.head()"
      ],
      "execution_count": null,
      "outputs": []
    },
    {
      "cell_type": "code",
      "metadata": {
        "id": "lJVdaW-FWN1d"
      },
      "source": [
        "df['target'].mean()"
      ],
      "execution_count": null,
      "outputs": []
    },
    {
      "cell_type": "code",
      "metadata": {
        "id": "9JqeYGZvWk5V"
      },
      "source": [
        "X = df.copy()\n",
        "y = X.pop('target')"
      ],
      "execution_count": null,
      "outputs": []
    },
    {
      "cell_type": "code",
      "metadata": {
        "id": "AZSuMuhuWobb"
      },
      "source": [
        "def make_random_sample(y):\n",
        "    m = len(y)\n",
        "    step = int(m / 100)\n",
        "    splits = range(0, m, step)\n",
        "    means = []\n",
        "    for idx in splits:\n",
        "        values = y[idx:idx + step]\n",
        "        mean = values.mean()\n",
        "        means.append(mean)\n",
        "    \n",
        "    means = pd.Series(means, dtype=np.float)\n",
        "    means -= means.mean()\n",
        "    means = pd.value_counts(means, bins=100)\n",
        "    return means"
      ],
      "execution_count": null,
      "outputs": []
    },
    {
      "cell_type": "code",
      "metadata": {
        "id": "78r5xNHO0zEY"
      },
      "source": [
        "samples = make_random_sample(y)"
      ],
      "execution_count": null,
      "outputs": []
    },
    {
      "cell_type": "code",
      "metadata": {
        "id": "aratTltw1C1U"
      },
      "source": [
        "sns.histplot(samples)"
      ],
      "execution_count": null,
      "outputs": []
    },
    {
      "cell_type": "code",
      "metadata": {
        "id": "inh62-Nx1LQ2"
      },
      "source": [
        ""
      ],
      "execution_count": null,
      "outputs": []
    }
  ]
}