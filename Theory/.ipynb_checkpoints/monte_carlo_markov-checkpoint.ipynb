{
 "cells": [
  {
   "cell_type": "code",
   "execution_count": 1,
   "metadata": {
    "ExecuteTime": {
     "end_time": "2020-12-03T20:56:27.238545Z",
     "start_time": "2020-12-03T20:56:26.600101Z"
    },
    "id": "nfKHY5RmymEC"
   },
   "outputs": [],
   "source": [
    "import os\n",
    "import numpy as np\n",
    "import pandas as pd\n",
    "import matplotlib.pyplot as plt\n",
    "import math\n",
    "import random\n",
    "from typing import Union, Optional, Dict"
   ]
  },
  {
   "cell_type": "code",
   "execution_count": 2,
   "metadata": {
    "ExecuteTime": {
     "end_time": "2020-12-03T20:56:27.254471Z",
     "start_time": "2020-12-03T20:56:27.239396Z"
    },
    "id": "kYKmt5zG0lMi"
   },
   "outputs": [],
   "source": [
    "def seed_everything(seed=0):\n",
    "    random.seed(seed)\n",
    "    np.random.seed(seed)\n",
    "    os.environ['PYTHONHASHSEED'] = str(seed)"
   ]
  },
  {
   "cell_type": "code",
   "execution_count": 3,
   "metadata": {
    "ExecuteTime": {
     "end_time": "2020-12-03T20:56:27.269458Z",
     "start_time": "2020-12-03T20:56:27.255503Z"
    },
    "id": "B2DOxG0K02OS"
   },
   "outputs": [],
   "source": [
    "seed = 69\n",
    "seed_everything(seed=seed)"
   ]
  },
  {
   "cell_type": "code",
   "execution_count": 4,
   "metadata": {
    "ExecuteTime": {
     "end_time": "2020-12-03T20:56:27.285514Z",
     "start_time": "2020-12-03T20:56:27.270449Z"
    },
    "id": "j6ujb1A4y2rH"
   },
   "outputs": [],
   "source": [
    "class Node:\n",
    "    def __init__(self, reward:Union[int, float], children:Optional[Dict[str, float]]=None):\n",
    "        self.reward = reward\n",
    "        self.terminal = children is None\n",
    "        self.children = children\n",
    "\n",
    "    def transition(self):\n",
    "        output_name = None\n",
    "        if self.terminal: return output_name\n",
    "        roll = random.random()\n",
    "        total = 0\n",
    "        for node in self.children.keys():\n",
    "            output_name = node\n",
    "            total += self.children[node]\n",
    "            if total >= roll: return output_name\n",
    "        return output_name"
   ]
  },
  {
   "cell_type": "code",
   "execution_count": 5,
   "metadata": {
    "ExecuteTime": {
     "end_time": "2020-12-03T20:56:27.300508Z",
     "start_time": "2020-12-03T20:56:27.286511Z"
    },
    "id": "s2075nOM73fV"
   },
   "outputs": [],
   "source": [
    "class CavesPaths:\n",
    "    def __init__(self, default_paths:Optional[Dict[str,float]]=None, node_params:Optional[dict]=None):\n",
    "        if default_paths is None: \n",
    "            default_paths = {\n",
    "                'A': .5,\n",
    "                'B': .3,\n",
    "                'C': .2\n",
    "            }\n",
    "        if node_params is None:\n",
    "            node_params = {\n",
    "                'start': (0, default_paths),\n",
    "                'A': (2, default_paths),\n",
    "                'B': (1, default_paths),\n",
    "                'C': (0, None)\n",
    "            }\n",
    "\n",
    "        self.default_paths = default_paths\n",
    "        self.node_params = node_params\n",
    "\n",
    "    def build_node(self, name:str) -> Node:\n",
    "        return Node(*self.node_params[name])\n",
    "\n",
    "    def build_path(self):\n",
    "        node = self.build_node('start')\n",
    "        distance = node.reward\n",
    "        paths = []\n",
    "        while node is not None:\n",
    "            next_node_name = node.transition()\n",
    "            if next_node_name is None: break\n",
    "            paths.append(next_node_name)\n",
    "            node = self.build_node(next_node_name)\n",
    "            distance += node.reward\n",
    "        return paths, distance"
   ]
  },
  {
   "cell_type": "code",
   "execution_count": 6,
   "metadata": {
    "ExecuteTime": {
     "end_time": "2020-12-03T20:56:27.316531Z",
     "start_time": "2020-12-03T20:56:27.301511Z"
    },
    "id": "dOFocLmz3b3n"
   },
   "outputs": [],
   "source": [
    "caves_paths = CavesPaths()"
   ]
  },
  {
   "cell_type": "code",
   "execution_count": 7,
   "metadata": {
    "ExecuteTime": {
     "end_time": "2020-12-03T20:56:27.332482Z",
     "start_time": "2020-12-03T20:56:27.317547Z"
    },
    "colab": {
     "base_uri": "https://localhost:8080/"
    },
    "id": "Sy_GSFBGO3Fq",
    "outputId": "7e16ea3a-c722-4698-d083-0b669c9bc3d3"
   },
   "outputs": [
    {
     "name": "stdout",
     "output_type": "stream",
     "text": [
      "distance traveled: 8\n",
      "\tpath: ['B', 'A', 'A', 'B', 'A', 'C']\n",
      "distance traveled: 1\n",
      "\tpath: ['B', 'C']\n",
      "distance traveled: 2\n",
      "\tpath: ['A', 'C']\n",
      "distance traveled: 1\n",
      "\tpath: ['B', 'C']\n",
      "distance traveled: 21\n",
      "\tpath: ['A', 'B', 'A', 'A', 'A', 'A', 'A', 'A', 'A', 'B', 'B', 'B', 'B', 'C']\n"
     ]
    }
   ],
   "source": [
    "for _ in range(5):\n",
    "    path, distance = caves_paths.build_path()\n",
    "    print(f'distance traveled: {distance}\\n\\tpath: {path}')"
   ]
  },
  {
   "cell_type": "code",
   "execution_count": 8,
   "metadata": {
    "ExecuteTime": {
     "end_time": "2020-12-03T20:56:27.347470Z",
     "start_time": "2020-12-03T20:56:27.333479Z"
    },
    "id": "iiNFZn1JUkn6"
   },
   "outputs": [],
   "source": [
    "# we want to know the probability that AAB appears in the sequence and \n",
    "# it appears before any BAA appears\n",
    "def check_aab(path):\n",
    "    assert type(path) == list\n",
    "    if len(path) < 4: return False\n",
    "    for i in range(len(path) - 3):\n",
    "        phrase = path[i] + path[i+1] + path[i+2]\n",
    "        if phrase == 'AAB' : return True\n",
    "        if phrase == 'BAA' : return False\n",
    "    return False"
   ]
  },
  {
   "cell_type": "code",
   "execution_count": 9,
   "metadata": {
    "ExecuteTime": {
     "end_time": "2020-12-03T20:56:27.363062Z",
     "start_time": "2020-12-03T20:56:27.348099Z"
    },
    "id": "2EnIgaFRO-B8"
   },
   "outputs": [],
   "source": [
    "def create_data(m:int=1000000) -> pd.DataFrame:\n",
    "    paths = []\n",
    "    distances = []\n",
    "\n",
    "    for _ in range(m):\n",
    "        path, distance = caves_paths.build_path()\n",
    "        paths.append(path)\n",
    "        distances.append(distance)\n",
    "\n",
    "    paths = pd.Series(paths)\n",
    "    distances = pd.Series(distances, dtype=int)\n",
    "\n",
    "    df = pd.DataFrame({\n",
    "        'paths':paths,\n",
    "        'days':distances\n",
    "    })\n",
    "\n",
    "    targets = []\n",
    "    for i in range(m):\n",
    "        has_aab = 1 if check_aab(paths[i]) else 0\n",
    "        targets.append(has_aab)\n",
    "\n",
    "    targets = pd.Series(targets, dtype=int)\n",
    "    df['target'] = targets\n",
    "\n",
    "    return df"
   ]
  },
  {
   "cell_type": "code",
   "execution_count": 10,
   "metadata": {
    "ExecuteTime": {
     "end_time": "2020-12-03T20:56:38.669634Z",
     "start_time": "2020-12-03T20:56:27.364059Z"
    },
    "id": "cysAhA10RjyX"
   },
   "outputs": [],
   "source": [
    "df = create_data()"
   ]
  },
  {
   "cell_type": "code",
   "execution_count": 11,
   "metadata": {
    "ExecuteTime": {
     "end_time": "2020-12-03T20:56:38.700542Z",
     "start_time": "2020-12-03T20:56:38.670633Z"
    },
    "colab": {
     "base_uri": "https://localhost:8080/",
     "height": 204
    },
    "id": "RGrrgCyeSqkb",
    "outputId": "4d2c09ac-9447-4d58-f314-cbd5bcc1dea4"
   },
   "outputs": [
    {
     "data": {
      "text/html": [
       "<div>\n",
       "<style scoped>\n",
       "    .dataframe tbody tr th:only-of-type {\n",
       "        vertical-align: middle;\n",
       "    }\n",
       "\n",
       "    .dataframe tbody tr th {\n",
       "        vertical-align: top;\n",
       "    }\n",
       "\n",
       "    .dataframe thead th {\n",
       "        text-align: right;\n",
       "    }\n",
       "</style>\n",
       "<table border=\"1\" class=\"dataframe\">\n",
       "  <thead>\n",
       "    <tr style=\"text-align: right;\">\n",
       "      <th></th>\n",
       "      <th>paths</th>\n",
       "      <th>days</th>\n",
       "      <th>target</th>\n",
       "    </tr>\n",
       "  </thead>\n",
       "  <tbody>\n",
       "    <tr>\n",
       "      <th>0</th>\n",
       "      <td>[A, A, B, A, C]</td>\n",
       "      <td>7</td>\n",
       "      <td>1</td>\n",
       "    </tr>\n",
       "    <tr>\n",
       "      <th>1</th>\n",
       "      <td>[B, A, A, A, A, A, A, A, A, C]</td>\n",
       "      <td>17</td>\n",
       "      <td>0</td>\n",
       "    </tr>\n",
       "    <tr>\n",
       "      <th>2</th>\n",
       "      <td>[B, B, C]</td>\n",
       "      <td>2</td>\n",
       "      <td>0</td>\n",
       "    </tr>\n",
       "    <tr>\n",
       "      <th>3</th>\n",
       "      <td>[B, A, A, A, A, B, C]</td>\n",
       "      <td>10</td>\n",
       "      <td>0</td>\n",
       "    </tr>\n",
       "    <tr>\n",
       "      <th>4</th>\n",
       "      <td>[A, A, B, A, A, A, C]</td>\n",
       "      <td>11</td>\n",
       "      <td>1</td>\n",
       "    </tr>\n",
       "  </tbody>\n",
       "</table>\n",
       "</div>"
      ],
      "text/plain": [
       "                            paths  days  target\n",
       "0                 [A, A, B, A, C]     7       1\n",
       "1  [B, A, A, A, A, A, A, A, A, C]    17       0\n",
       "2                       [B, B, C]     2       0\n",
       "3           [B, A, A, A, A, B, C]    10       0\n",
       "4           [A, A, B, A, A, A, C]    11       1"
      ]
     },
     "execution_count": 11,
     "metadata": {},
     "output_type": "execute_result"
    }
   ],
   "source": [
    "df.head()"
   ]
  },
  {
   "cell_type": "code",
   "execution_count": 12,
   "metadata": {
    "ExecuteTime": {
     "end_time": "2020-12-03T20:56:38.716415Z",
     "start_time": "2020-12-03T20:56:38.701480Z"
    },
    "colab": {
     "base_uri": "https://localhost:8080/"
    },
    "id": "lJVdaW-FWN1d",
    "outputId": "66ade735-e3f8-441e-cd64-55116aeb0b1e"
   },
   "outputs": [
    {
     "data": {
      "text/plain": [
       "0.151337"
      ]
     },
     "execution_count": 12,
     "metadata": {},
     "output_type": "execute_result"
    }
   ],
   "source": [
    "df['target'].mean()"
   ]
  },
  {
   "cell_type": "code",
   "execution_count": 13,
   "metadata": {
    "ExecuteTime": {
     "end_time": "2020-12-03T20:56:39.760120Z",
     "start_time": "2020-12-03T20:56:38.717437Z"
    },
    "id": "JbP3sYdAWdXh"
   },
   "outputs": [],
   "source": [
    "import sklearn\n",
    "from sklearn.model_selection import train_test_split"
   ]
  },
  {
   "cell_type": "code",
   "execution_count": null,
   "metadata": {
    "colab": {
     "base_uri": "https://localhost:8080/"
    },
    "id": "9JqeYGZvWk5V",
    "outputId": "631580bc-e6e4-4591-f910-28b54df7d9db"
   },
   "outputs": [],
   "source": []
  },
  {
   "cell_type": "code",
   "execution_count": null,
   "metadata": {
    "id": "AZSuMuhuWobb"
   },
   "outputs": [],
   "source": []
  }
 ],
 "metadata": {
  "colab": {
   "collapsed_sections": [],
   "name": "monte_carlo_markov.ipynb",
   "provenance": []
  },
  "kernelspec": {
   "display_name": "Python 3",
   "language": "python",
   "name": "python3"
  },
  "language_info": {
   "codemirror_mode": {
    "name": "ipython",
    "version": 3
   },
   "file_extension": ".py",
   "mimetype": "text/x-python",
   "name": "python",
   "nbconvert_exporter": "python",
   "pygments_lexer": "ipython3",
   "version": "3.8.3"
  },
  "toc": {
   "base_numbering": 1,
   "nav_menu": {},
   "number_sections": true,
   "sideBar": true,
   "skip_h1_title": false,
   "title_cell": "Table of Contents",
   "title_sidebar": "Contents",
   "toc_cell": false,
   "toc_position": {},
   "toc_section_display": true,
   "toc_window_display": false
  }
 },
 "nbformat": 4,
 "nbformat_minor": 1
}
