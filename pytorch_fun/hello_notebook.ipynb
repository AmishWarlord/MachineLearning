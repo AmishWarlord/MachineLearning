{
 "cells": [
  {
   "cell_type": "code",
   "execution_count": 29,
   "metadata": {
    "ExecuteTime": {
     "end_time": "2020-12-13T23:38:12.338778Z",
     "start_time": "2020-12-13T23:38:12.328805Z"
    }
   },
   "outputs": [],
   "source": [
    "import torch as t\n",
    "from torch import optim\n",
    "from torch import nn\n",
    "from torchviz import make_dot\n",
    "import torchvision as tv\n",
    "import numpy as np\n",
    "import sklearn\n",
    "from sklearn.linear_model import LinearRegression\n",
    "from sklearn.model_selection import train_test_split\n",
    "from sklearn.datasets import make_friedman1"
   ]
  },
  {
   "cell_type": "code",
   "execution_count": 52,
   "metadata": {
    "ExecuteTime": {
     "end_time": "2020-12-13T23:43:59.003810Z",
     "start_time": "2020-12-13T23:43:58.993808Z"
    }
   },
   "outputs": [],
   "source": [
    "t.manual_seed(seed:=69)\n",
    "np.random.seed(seed)\n",
    "device = t.device('cuda:0')"
   ]
  },
  {
   "cell_type": "code",
   "execution_count": 59,
   "metadata": {
    "ExecuteTime": {
     "end_time": "2020-12-13T23:51:19.593070Z",
     "start_time": "2020-12-13T23:51:19.584124Z"
    }
   },
   "outputs": [],
   "source": [
    "X, y = make_friedman1(n_samples=1000, n_features=10, random_state=seed)\n",
    "y = np.sin(y)\n",
    "X_train, X_test, y_train, y_test = train_test_split(X, y)"
   ]
  },
  {
   "cell_type": "code",
   "execution_count": 60,
   "metadata": {
    "ExecuteTime": {
     "end_time": "2020-12-13T23:51:20.290769Z",
     "start_time": "2020-12-13T23:51:20.278774Z"
    }
   },
   "outputs": [
    {
     "data": {
      "text/plain": [
       "0.4889033212507644"
      ]
     },
     "execution_count": 60,
     "metadata": {},
     "output_type": "execute_result"
    }
   ],
   "source": [
    "l = LinearRegression()\n",
    "l.fit(X_train, y_train)\n",
    "y_pred = l.predict(X_test)\n",
    "np.square(y_pred - y_test).mean()"
   ]
  },
  {
   "cell_type": "code",
   "execution_count": 61,
   "metadata": {
    "ExecuteTime": {
     "end_time": "2020-12-13T23:51:22.958234Z",
     "start_time": "2020-12-13T23:51:22.921126Z"
    }
   },
   "outputs": [],
   "source": [
    "X_train = t.from_numpy(X_train).float().to(device)\n",
    "X_test = t.from_numpy(X_test).float().to(device)\n",
    "y_train = t.from_numpy(y_train).float().to(device)\n",
    "y_test = t.from_numpy(y_test).float().to(device)"
   ]
  },
  {
   "cell_type": "code",
   "execution_count": 58,
   "metadata": {
    "ExecuteTime": {
     "end_time": "2020-12-13T23:48:20.419151Z",
     "start_time": "2020-12-13T23:48:20.408152Z"
    }
   },
   "outputs": [
    {
     "data": {
      "text/plain": [
       "'torch.cuda.FloatTensor'"
      ]
     },
     "execution_count": 58,
     "metadata": {},
     "output_type": "execute_result"
    }
   ],
   "source": [
    "X_train.type()"
   ]
  },
  {
   "cell_type": "code",
   "execution_count": 57,
   "metadata": {
    "ExecuteTime": {
     "end_time": "2020-12-13T23:48:16.012079Z",
     "start_time": "2020-12-13T23:48:15.978198Z"
    }
   },
   "outputs": [
    {
     "data": {
      "text/plain": [
       "'torch.FloatTensor'"
      ]
     },
     "execution_count": 57,
     "metadata": {},
     "output_type": "execute_result"
    }
   ],
   "source": []
  },
  {
   "cell_type": "code",
   "execution_count": null,
   "metadata": {},
   "outputs": [],
   "source": []
  }
 ],
 "metadata": {
  "kernelspec": {
   "display_name": "Python 3",
   "language": "python",
   "name": "python3"
  },
  "language_info": {
   "codemirror_mode": {
    "name": "ipython",
    "version": 3
   },
   "file_extension": ".py",
   "mimetype": "text/x-python",
   "name": "python",
   "nbconvert_exporter": "python",
   "pygments_lexer": "ipython3",
   "version": "3.8.3"
  },
  "toc": {
   "base_numbering": 1,
   "nav_menu": {},
   "number_sections": true,
   "sideBar": true,
   "skip_h1_title": false,
   "title_cell": "Table of Contents",
   "title_sidebar": "Contents",
   "toc_cell": false,
   "toc_position": {},
   "toc_section_display": true,
   "toc_window_display": false
  }
 },
 "nbformat": 4,
 "nbformat_minor": 4
}
