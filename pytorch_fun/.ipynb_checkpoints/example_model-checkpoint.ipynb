{
 "cells": [
  {
   "cell_type": "code",
   "execution_count": 1,
   "metadata": {
    "ExecuteTime": {
     "end_time": "2020-12-19T19:34:40.657744Z",
     "start_time": "2020-12-19T19:34:39.530609Z"
    }
   },
   "outputs": [
    {
     "name": "stderr",
     "output_type": "stream",
     "text": [
      "C:\\ProgramData\\Anaconda3\\lib\\site-packages\\torchaudio\\extension\\extension.py:14: UserWarning: torchaudio C++ extension is not available.\n",
      "  warnings.warn('torchaudio C++ extension is not available.')\n",
      "C:\\ProgramData\\Anaconda3\\lib\\site-packages\\torchaudio\\backend\\utils.py:63: UserWarning: The interface of \"soundfile\" backend is planned to change in 0.8.0 to match that of \"sox_io\" backend and the current interface will be removed in 0.9.0. To use the new interface, do `torchaudio.USE_SOUNDFILE_LEGACY_INTERFACE = False` before setting the backend to \"soundfile\". Please refer to https://github.com/pytorch/audio/issues/903 for the detail.\n",
      "  warnings.warn(\n"
     ]
    }
   ],
   "source": [
    "import torch\n",
    "import torchvision\n",
    "from torchvision import transforms \n",
    "import torchaudio\n",
    "from torch import nn\n",
    "from torch import optim\n",
    "from torch.nn import functional as f\n",
    "from torch.nn import functional as F\n",
    "from torchviz import make_dot\n",
    "import matplotlib.pyplot as plt\n",
    "import numpy as np\n",
    "import pandas as pd\n",
    "torchaudio.USE_SOUNDFILE_LEGACY_INTERFACE = False\n",
    "np.random.seed(seed:=69)\n",
    "torch.manual_seed(seed)\n",
    "device = 'cuda:0' if torch.cuda.is_available() else 'cpu'"
   ]
  },
  {
   "cell_type": "code",
   "execution_count": 2,
   "metadata": {
    "ExecuteTime": {
     "end_time": "2020-12-19T19:34:40.673672Z",
     "start_time": "2020-12-19T19:34:40.658711Z"
    }
   },
   "outputs": [
    {
     "data": {
      "text/plain": [
       "tensor([[1., 1.],\n",
       "        [1., 1.]], requires_grad=True)"
      ]
     },
     "execution_count": 2,
     "metadata": {},
     "output_type": "execute_result"
    }
   ],
   "source": [
    "x = torch.ones(2, 2, requires_grad=True)\n",
    "x"
   ]
  },
  {
   "cell_type": "code",
   "execution_count": 3,
   "metadata": {
    "ExecuteTime": {
     "end_time": "2020-12-19T19:34:40.688905Z",
     "start_time": "2020-12-19T19:34:40.675667Z"
    }
   },
   "outputs": [
    {
     "data": {
      "text/plain": [
       "tensor([[3., 3.],\n",
       "        [3., 3.]], grad_fn=<AddBackward0>)"
      ]
     },
     "execution_count": 3,
     "metadata": {},
     "output_type": "execute_result"
    }
   ],
   "source": [
    "y = x + 2\n",
    "y"
   ]
  },
  {
   "cell_type": "code",
   "execution_count": 4,
   "metadata": {
    "ExecuteTime": {
     "end_time": "2020-12-19T19:34:40.704865Z",
     "start_time": "2020-12-19T19:34:40.689945Z"
    }
   },
   "outputs": [
    {
     "data": {
      "text/plain": [
       "<AddBackward0 at 0x1b7cee549a0>"
      ]
     },
     "execution_count": 4,
     "metadata": {},
     "output_type": "execute_result"
    }
   ],
   "source": [
    "y.grad_fn"
   ]
  },
  {
   "cell_type": "code",
   "execution_count": 5,
   "metadata": {
    "ExecuteTime": {
     "end_time": "2020-12-19T19:34:41.114955Z",
     "start_time": "2020-12-19T19:34:41.103984Z"
    }
   },
   "outputs": [],
   "source": [
    "class Net(nn.Module):\n",
    "    \n",
    "    def __init__(self):\n",
    "        super(Net, self).__init__()\n",
    "        self.conv1 = nn.Conv2d(1, 6, 3)\n",
    "        self.conv2 = nn.Conv2d(6, 16, 3)\n",
    "        # an affine operation y = Wx + b\n",
    "        self.fc1 = nn.Linear(16 * 6 * 6, 120)\n",
    "        self.fc2 = nn.Linear(120, 84)\n",
    "        self.fc3 = nn.Linear(84, 10)\n",
    "    \n",
    "    def forward(self, x):\n",
    "        # max pool over a (2, 2) kernel\n",
    "        x = f.max_pool2d(f.relu(self.conv1(x)), (2, 2))\n",
    "        # if the size is a square you can specify a single number instead\n",
    "        x = f.max_pool2d(f.relu(self.conv2(x)), 2)\n",
    "        x = x.view(-1, self.num_flat_features(x))\n",
    "        x = f.relu(self.fc1(x))\n",
    "        x = f.relu(self.fc2(x))\n",
    "        x = self.fc3(x)\n",
    "        return x\n",
    "    \n",
    "    def num_flat_features(self, x):\n",
    "        size = x.size()[1:] # all dims except batch dim\n",
    "        num_features = 1\n",
    "        for s in size:\n",
    "            num_features *= s\n",
    "        return num_features"
   ]
  },
  {
   "cell_type": "code",
   "execution_count": 6,
   "metadata": {
    "ExecuteTime": {
     "end_time": "2020-12-19T19:34:41.145900Z",
     "start_time": "2020-12-19T19:34:41.133904Z"
    }
   },
   "outputs": [
    {
     "name": "stdout",
     "output_type": "stream",
     "text": [
      "param size: 10\n",
      "param shape: torch.Size([6, 1, 3, 3])\n"
     ]
    }
   ],
   "source": [
    "net = Net()\n",
    "params = list(net.parameters())\n",
    "param_size = len(params)\n",
    "\n",
    "print(f'param size: {param_size}\\nparam shape: {params[0].size()}')"
   ]
  },
  {
   "cell_type": "code",
   "execution_count": 7,
   "metadata": {
    "ExecuteTime": {
     "end_time": "2020-12-19T19:34:41.177786Z",
     "start_time": "2020-12-19T19:34:41.164849Z"
    }
   },
   "outputs": [
    {
     "data": {
      "text/plain": [
       "tensor([[ 0.0206, -0.0915,  0.0910,  0.0920,  0.1092,  0.0552, -0.0146,  0.0892,\n",
       "          0.0047, -0.0092]], grad_fn=<AddmmBackward>)"
      ]
     },
     "execution_count": 7,
     "metadata": {},
     "output_type": "execute_result"
    }
   ],
   "source": [
    "input = torch.randn(1, 1, 32, 32)\n",
    "out = net(input)\n",
    "out"
   ]
  },
  {
   "cell_type": "code",
   "execution_count": 8,
   "metadata": {
    "ExecuteTime": {
     "end_time": "2020-12-19T19:34:41.209701Z",
     "start_time": "2020-12-19T19:34:41.199728Z"
    }
   },
   "outputs": [],
   "source": [
    "net.zero_grad()\n",
    "out.backward(torch.randn(1, 10))"
   ]
  },
  {
   "cell_type": "code",
   "execution_count": 9,
   "metadata": {
    "ExecuteTime": {
     "end_time": "2020-12-19T19:34:41.241615Z",
     "start_time": "2020-12-19T19:34:41.228651Z"
    }
   },
   "outputs": [],
   "source": [
    "# torch.nn only supports mini-batches. The entire torch.nn package only supports inputs that are a mini-batch of samples, and not a single sample.\n",
    "# For example, nn.Conv2d will take in a 4D Tensor of nSamples x nChannels x Height x Width.\n",
    "# If you have a single sample, just use input.unsqueeze(0) to add a fake batch dimension."
   ]
  },
  {
   "cell_type": "code",
   "execution_count": 10,
   "metadata": {
    "ExecuteTime": {
     "end_time": "2020-12-19T19:34:41.273531Z",
     "start_time": "2020-12-19T19:34:41.261563Z"
    }
   },
   "outputs": [
    {
     "name": "stdout",
     "output_type": "stream",
     "text": [
      "tensor(0.5434, grad_fn=<MseLossBackward>)\n"
     ]
    }
   ],
   "source": [
    "output = net(input)\n",
    "target = torch.randn(10) # dummy target\n",
    "target = target.view(1, -1)\n",
    "criterion = nn.MSELoss()\n",
    "loss = criterion(output, target)\n",
    "print(loss)"
   ]
  },
  {
   "cell_type": "code",
   "execution_count": 11,
   "metadata": {
    "ExecuteTime": {
     "end_time": "2020-12-19T19:34:41.304448Z",
     "start_time": "2020-12-19T19:34:41.297467Z"
    }
   },
   "outputs": [
    {
     "name": "stdout",
     "output_type": "stream",
     "text": [
      "<MseLossBackward object at 0x000001B7CFA55EE0>\n"
     ]
    }
   ],
   "source": [
    "print(loss.grad_fn)"
   ]
  },
  {
   "cell_type": "code",
   "execution_count": 12,
   "metadata": {
    "ExecuteTime": {
     "end_time": "2020-12-19T19:34:41.336363Z",
     "start_time": "2020-12-19T19:34:41.326390Z"
    }
   },
   "outputs": [
    {
     "name": "stdout",
     "output_type": "stream",
     "text": [
      "conv1.bias.grad before backward: tensor([0., 0., 0., 0., 0., 0.])\n",
      "conv1.bias.grad after: tensor([-0.0019,  0.0036,  0.0076, -0.0056,  0.0042,  0.0076])\n"
     ]
    }
   ],
   "source": [
    "net.zero_grad()     # zeroes the gradient buffers of all parameters\n",
    "print(f'conv1.bias.grad before backward: {net.conv1.bias.grad}')\n",
    "loss.backward()\n",
    "print(f'conv1.bias.grad after: {net.conv1.bias.grad}')"
   ]
  },
  {
   "cell_type": "code",
   "execution_count": 13,
   "metadata": {
    "ExecuteTime": {
     "end_time": "2020-12-19T19:34:41.650647Z",
     "start_time": "2020-12-19T19:34:41.629727Z"
    }
   },
   "outputs": [],
   "source": [
    "learning_rate = 0.01\n",
    "# manual calculation:\n",
    "# for f in net.parameters():\n",
    "#     f.data.sub_(f.grad.data * learning_rate)\n",
    "\n",
    "# for prepackaged calculation:\n",
    "optimizer = optim.Adam(net.parameters(), lr=learning_rate)\n",
    "\n",
    "# put in training loop:\n",
    "optimizer.zero_grad()\n",
    "output = net(input)\n",
    "loss = criterion(output, target) # criterion is a loss function\n",
    "loss.backward()\n",
    "optimizer.step()"
   ]
  },
  {
   "cell_type": "code",
   "execution_count": 14,
   "metadata": {
    "ExecuteTime": {
     "end_time": "2020-12-19T19:34:41.940506Z",
     "start_time": "2020-12-19T19:34:41.874133Z"
    }
   },
   "outputs": [
    {
     "data": {
      "image/svg+xml": [
       "<?xml version=\"1.0\" encoding=\"UTF-8\" standalone=\"no\"?>\r\n",
       "<!DOCTYPE svg PUBLIC \"-//W3C//DTD SVG 1.1//EN\"\r\n",
       " \"http://www.w3.org/Graphics/SVG/1.1/DTD/svg11.dtd\">\r\n",
       "<!-- Generated by graphviz version 2.44.1 (20200629.0846)\r\n",
       " -->\r\n",
       "<!-- Pages: 1 -->\r\n",
       "<svg width=\"413pt\" height=\"825pt\"\r\n",
       " viewBox=\"0.00 0.00 412.50 825.00\" xmlns=\"http://www.w3.org/2000/svg\" xmlns:xlink=\"http://www.w3.org/1999/xlink\">\r\n",
       "<g id=\"graph0\" class=\"graph\" transform=\"scale(1 1) rotate(0) translate(4 821)\">\r\n",
       "<polygon fill=\"white\" stroke=\"transparent\" points=\"-4,4 -4,-821 408.5,-821 408.5,4 -4,4\"/>\r\n",
       "<!-- 1888696089664 -->\r\n",
       "<g id=\"node1\" class=\"node\">\r\n",
       "<title>1888696089664</title>\r\n",
       "<polygon fill=\"#caff70\" stroke=\"black\" points=\"290.5,-21 189.5,-21 189.5,0 290.5,0 290.5,-21\"/>\r\n",
       "<text text-anchor=\"middle\" x=\"240\" y=\"-7.4\" font-family=\"Times New Roman,serif\" font-size=\"12.00\">AddmmBackward</text>\r\n",
       "</g>\r\n",
       "<!-- 1888696089472 -->\r\n",
       "<g id=\"node2\" class=\"node\">\r\n",
       "<title>1888696089472</title>\r\n",
       "<polygon fill=\"lightblue\" stroke=\"black\" points=\"177,-92 123,-92 123,-57 177,-57 177,-92\"/>\r\n",
       "<text text-anchor=\"middle\" x=\"150\" y=\"-64.4\" font-family=\"Times New Roman,serif\" font-size=\"12.00\"> (10)</text>\r\n",
       "</g>\r\n",
       "<!-- 1888696089472&#45;&gt;1888696089664 -->\r\n",
       "<g id=\"edge1\" class=\"edge\">\r\n",
       "<title>1888696089472&#45;&gt;1888696089664</title>\r\n",
       "<path fill=\"none\" stroke=\"black\" d=\"M174.12,-56.89C187.66,-47.56 204.43,-36 217.67,-26.88\"/>\r\n",
       "<polygon fill=\"black\" stroke=\"black\" points=\"219.93,-29.57 226.18,-21.02 215.96,-23.81 219.93,-29.57\"/>\r\n",
       "</g>\r\n",
       "<!-- 1888696090048 -->\r\n",
       "<g id=\"node3\" class=\"node\">\r\n",
       "<title>1888696090048</title>\r\n",
       "<polygon fill=\"lightgrey\" stroke=\"black\" points=\"285,-85 195,-85 195,-64 285,-64 285,-85\"/>\r\n",
       "<text text-anchor=\"middle\" x=\"240\" y=\"-71.4\" font-family=\"Times New Roman,serif\" font-size=\"12.00\">ReluBackward0</text>\r\n",
       "</g>\r\n",
       "<!-- 1888696090048&#45;&gt;1888696089664 -->\r\n",
       "<g id=\"edge2\" class=\"edge\">\r\n",
       "<title>1888696090048&#45;&gt;1888696089664</title>\r\n",
       "<path fill=\"none\" stroke=\"black\" d=\"M240,-63.81C240,-55.22 240,-42.39 240,-31.59\"/>\r\n",
       "<polygon fill=\"black\" stroke=\"black\" points=\"243.5,-31.32 240,-21.32 236.5,-31.32 243.5,-31.32\"/>\r\n",
       "</g>\r\n",
       "<!-- 1888696089856 -->\r\n",
       "<g id=\"node4\" class=\"node\">\r\n",
       "<title>1888696089856</title>\r\n",
       "<polygon fill=\"lightgrey\" stroke=\"black\" points=\"290.5,-156 189.5,-156 189.5,-135 290.5,-135 290.5,-156\"/>\r\n",
       "<text text-anchor=\"middle\" x=\"240\" y=\"-142.4\" font-family=\"Times New Roman,serif\" font-size=\"12.00\">AddmmBackward</text>\r\n",
       "</g>\r\n",
       "<!-- 1888696089856&#45;&gt;1888696090048 -->\r\n",
       "<g id=\"edge3\" class=\"edge\">\r\n",
       "<title>1888696089856&#45;&gt;1888696090048</title>\r\n",
       "<path fill=\"none\" stroke=\"black\" d=\"M240,-134.91C240,-124.71 240,-108.3 240,-95.31\"/>\r\n",
       "<polygon fill=\"black\" stroke=\"black\" points=\"243.5,-95.01 240,-85.01 236.5,-95.01 243.5,-95.01\"/>\r\n",
       "</g>\r\n",
       "<!-- 1888974364144 -->\r\n",
       "<g id=\"node5\" class=\"node\">\r\n",
       "<title>1888974364144</title>\r\n",
       "<polygon fill=\"lightblue\" stroke=\"black\" points=\"177,-234 123,-234 123,-199 177,-199 177,-234\"/>\r\n",
       "<text text-anchor=\"middle\" x=\"150\" y=\"-206.4\" font-family=\"Times New Roman,serif\" font-size=\"12.00\"> (84)</text>\r\n",
       "</g>\r\n",
       "<!-- 1888974364144&#45;&gt;1888696089856 -->\r\n",
       "<g id=\"edge4\" class=\"edge\">\r\n",
       "<title>1888974364144&#45;&gt;1888696089856</title>\r\n",
       "<path fill=\"none\" stroke=\"black\" d=\"M171.79,-198.8C186.26,-187.7 205.15,-173.22 219.38,-162.31\"/>\r\n",
       "<polygon fill=\"black\" stroke=\"black\" points=\"221.75,-164.9 227.56,-156.04 217.49,-159.35 221.75,-164.9\"/>\r\n",
       "</g>\r\n",
       "<!-- 1888974363808 -->\r\n",
       "<g id=\"node6\" class=\"node\">\r\n",
       "<title>1888974363808</title>\r\n",
       "<polygon fill=\"lightgrey\" stroke=\"black\" points=\"285,-227 195,-227 195,-206 285,-206 285,-227\"/>\r\n",
       "<text text-anchor=\"middle\" x=\"240\" y=\"-213.4\" font-family=\"Times New Roman,serif\" font-size=\"12.00\">ReluBackward0</text>\r\n",
       "</g>\r\n",
       "<!-- 1888974363808&#45;&gt;1888696089856 -->\r\n",
       "<g id=\"edge5\" class=\"edge\">\r\n",
       "<title>1888974363808&#45;&gt;1888696089856</title>\r\n",
       "<path fill=\"none\" stroke=\"black\" d=\"M240,-205.91C240,-195.71 240,-179.3 240,-166.31\"/>\r\n",
       "<polygon fill=\"black\" stroke=\"black\" points=\"243.5,-166.01 240,-156.01 236.5,-166.01 243.5,-166.01\"/>\r\n",
       "</g>\r\n",
       "<!-- 1888974364384 -->\r\n",
       "<g id=\"node7\" class=\"node\">\r\n",
       "<title>1888974364384</title>\r\n",
       "<polygon fill=\"lightgrey\" stroke=\"black\" points=\"290.5,-298 189.5,-298 189.5,-277 290.5,-277 290.5,-298\"/>\r\n",
       "<text text-anchor=\"middle\" x=\"240\" y=\"-284.4\" font-family=\"Times New Roman,serif\" font-size=\"12.00\">AddmmBackward</text>\r\n",
       "</g>\r\n",
       "<!-- 1888974364384&#45;&gt;1888974363808 -->\r\n",
       "<g id=\"edge6\" class=\"edge\">\r\n",
       "<title>1888974364384&#45;&gt;1888974363808</title>\r\n",
       "<path fill=\"none\" stroke=\"black\" d=\"M240,-276.91C240,-266.71 240,-250.3 240,-237.31\"/>\r\n",
       "<polygon fill=\"black\" stroke=\"black\" points=\"243.5,-237.01 240,-227.01 236.5,-237.01 243.5,-237.01\"/>\r\n",
       "</g>\r\n",
       "<!-- 1888974364480 -->\r\n",
       "<g id=\"node8\" class=\"node\">\r\n",
       "<title>1888974364480</title>\r\n",
       "<polygon fill=\"lightblue\" stroke=\"black\" points=\"178,-376 124,-376 124,-341 178,-341 178,-376\"/>\r\n",
       "<text text-anchor=\"middle\" x=\"151\" y=\"-348.4\" font-family=\"Times New Roman,serif\" font-size=\"12.00\"> (120)</text>\r\n",
       "</g>\r\n",
       "<!-- 1888974364480&#45;&gt;1888974364384 -->\r\n",
       "<g id=\"edge7\" class=\"edge\">\r\n",
       "<title>1888974364480&#45;&gt;1888974364384</title>\r\n",
       "<path fill=\"none\" stroke=\"black\" d=\"M172.54,-340.8C186.86,-329.7 205.54,-315.22 219.61,-304.31\"/>\r\n",
       "<polygon fill=\"black\" stroke=\"black\" points=\"221.94,-306.93 227.7,-298.04 217.65,-301.4 221.94,-306.93\"/>\r\n",
       "</g>\r\n",
       "<!-- 1888974363952 -->\r\n",
       "<g id=\"node9\" class=\"node\">\r\n",
       "<title>1888974363952</title>\r\n",
       "<polygon fill=\"lightgrey\" stroke=\"black\" points=\"284,-369 196,-369 196,-348 284,-348 284,-369\"/>\r\n",
       "<text text-anchor=\"middle\" x=\"240\" y=\"-355.4\" font-family=\"Times New Roman,serif\" font-size=\"12.00\">ViewBackward</text>\r\n",
       "</g>\r\n",
       "<!-- 1888974363952&#45;&gt;1888974364384 -->\r\n",
       "<g id=\"edge8\" class=\"edge\">\r\n",
       "<title>1888974363952&#45;&gt;1888974364384</title>\r\n",
       "<path fill=\"none\" stroke=\"black\" d=\"M240,-347.91C240,-337.71 240,-321.3 240,-308.31\"/>\r\n",
       "<polygon fill=\"black\" stroke=\"black\" points=\"243.5,-308.01 240,-298.01 236.5,-308.01 243.5,-308.01\"/>\r\n",
       "</g>\r\n",
       "<!-- 1888974364048 -->\r\n",
       "<g id=\"node10\" class=\"node\">\r\n",
       "<title>1888974364048</title>\r\n",
       "<polygon fill=\"lightgrey\" stroke=\"black\" points=\"317,-440 143,-440 143,-419 317,-419 317,-440\"/>\r\n",
       "<text text-anchor=\"middle\" x=\"230\" y=\"-426.4\" font-family=\"Times New Roman,serif\" font-size=\"12.00\">MaxPool2DWithIndicesBackward</text>\r\n",
       "</g>\r\n",
       "<!-- 1888974364048&#45;&gt;1888974363952 -->\r\n",
       "<g id=\"edge9\" class=\"edge\">\r\n",
       "<title>1888974364048&#45;&gt;1888974363952</title>\r\n",
       "<path fill=\"none\" stroke=\"black\" d=\"M231.39,-418.91C232.88,-408.61 235.29,-391.97 237.19,-378.92\"/>\r\n",
       "<polygon fill=\"black\" stroke=\"black\" points=\"240.65,-379.41 238.62,-369.01 233.72,-378.41 240.65,-379.41\"/>\r\n",
       "</g>\r\n",
       "<!-- 1888974364240 -->\r\n",
       "<g id=\"node11\" class=\"node\">\r\n",
       "<title>1888974364240</title>\r\n",
       "<polygon fill=\"lightgrey\" stroke=\"black\" points=\"275,-504 185,-504 185,-483 275,-483 275,-504\"/>\r\n",
       "<text text-anchor=\"middle\" x=\"230\" y=\"-490.4\" font-family=\"Times New Roman,serif\" font-size=\"12.00\">ReluBackward0</text>\r\n",
       "</g>\r\n",
       "<!-- 1888974364240&#45;&gt;1888974364048 -->\r\n",
       "<g id=\"edge10\" class=\"edge\">\r\n",
       "<title>1888974364240&#45;&gt;1888974364048</title>\r\n",
       "<path fill=\"none\" stroke=\"black\" d=\"M230,-482.81C230,-474.22 230,-461.39 230,-450.59\"/>\r\n",
       "<polygon fill=\"black\" stroke=\"black\" points=\"233.5,-450.32 230,-440.32 226.5,-450.32 233.5,-450.32\"/>\r\n",
       "</g>\r\n",
       "<!-- 1888961776848 -->\r\n",
       "<g id=\"node12\" class=\"node\">\r\n",
       "<title>1888961776848</title>\r\n",
       "<polygon fill=\"lightgrey\" stroke=\"black\" points=\"292.5,-561 167.5,-561 167.5,-540 292.5,-540 292.5,-561\"/>\r\n",
       "<text text-anchor=\"middle\" x=\"230\" y=\"-547.4\" font-family=\"Times New Roman,serif\" font-size=\"12.00\">ThnnConv2DBackward</text>\r\n",
       "</g>\r\n",
       "<!-- 1888961776848&#45;&gt;1888974364240 -->\r\n",
       "<g id=\"edge11\" class=\"edge\">\r\n",
       "<title>1888961776848&#45;&gt;1888974364240</title>\r\n",
       "<path fill=\"none\" stroke=\"black\" d=\"M230,-539.92C230,-532.91 230,-523.14 230,-514.47\"/>\r\n",
       "<polygon fill=\"black\" stroke=\"black\" points=\"233.5,-514.34 230,-504.34 226.5,-514.34 233.5,-514.34\"/>\r\n",
       "</g>\r\n",
       "<!-- 1888961776752 -->\r\n",
       "<g id=\"node13\" class=\"node\">\r\n",
       "<title>1888961776752</title>\r\n",
       "<polygon fill=\"lightgrey\" stroke=\"black\" points=\"174,-625 0,-625 0,-604 174,-604 174,-625\"/>\r\n",
       "<text text-anchor=\"middle\" x=\"87\" y=\"-611.4\" font-family=\"Times New Roman,serif\" font-size=\"12.00\">MaxPool2DWithIndicesBackward</text>\r\n",
       "</g>\r\n",
       "<!-- 1888961776752&#45;&gt;1888961776848 -->\r\n",
       "<g id=\"edge12\" class=\"edge\">\r\n",
       "<title>1888961776752&#45;&gt;1888961776848</title>\r\n",
       "<path fill=\"none\" stroke=\"black\" d=\"M109.03,-603.95C132.89,-593.6 171.18,-577 198.28,-565.25\"/>\r\n",
       "<polygon fill=\"black\" stroke=\"black\" points=\"199.93,-568.35 207.71,-561.16 197.14,-561.93 199.93,-568.35\"/>\r\n",
       "</g>\r\n",
       "<!-- 1888961776944 -->\r\n",
       "<g id=\"node14\" class=\"node\">\r\n",
       "<title>1888961776944</title>\r\n",
       "<polygon fill=\"lightgrey\" stroke=\"black\" points=\"132,-689 42,-689 42,-668 132,-668 132,-689\"/>\r\n",
       "<text text-anchor=\"middle\" x=\"87\" y=\"-675.4\" font-family=\"Times New Roman,serif\" font-size=\"12.00\">ReluBackward0</text>\r\n",
       "</g>\r\n",
       "<!-- 1888961776944&#45;&gt;1888961776752 -->\r\n",
       "<g id=\"edge13\" class=\"edge\">\r\n",
       "<title>1888961776944&#45;&gt;1888961776752</title>\r\n",
       "<path fill=\"none\" stroke=\"black\" d=\"M87,-667.81C87,-659.22 87,-646.39 87,-635.59\"/>\r\n",
       "<polygon fill=\"black\" stroke=\"black\" points=\"90.5,-635.32 87,-625.32 83.5,-635.32 90.5,-635.32\"/>\r\n",
       "</g>\r\n",
       "<!-- 1888961777088 -->\r\n",
       "<g id=\"node15\" class=\"node\">\r\n",
       "<title>1888961777088</title>\r\n",
       "<polygon fill=\"lightgrey\" stroke=\"black\" points=\"149.5,-746 24.5,-746 24.5,-725 149.5,-725 149.5,-746\"/>\r\n",
       "<text text-anchor=\"middle\" x=\"87\" y=\"-732.4\" font-family=\"Times New Roman,serif\" font-size=\"12.00\">ThnnConv2DBackward</text>\r\n",
       "</g>\r\n",
       "<!-- 1888961777088&#45;&gt;1888961776944 -->\r\n",
       "<g id=\"edge14\" class=\"edge\">\r\n",
       "<title>1888961777088&#45;&gt;1888961776944</title>\r\n",
       "<path fill=\"none\" stroke=\"black\" d=\"M87,-724.92C87,-717.91 87,-708.14 87,-699.47\"/>\r\n",
       "<polygon fill=\"black\" stroke=\"black\" points=\"90.5,-699.34 87,-689.34 83.5,-699.34 90.5,-699.34\"/>\r\n",
       "</g>\r\n",
       "<!-- 1888961776656 -->\r\n",
       "<g id=\"node16\" class=\"node\">\r\n",
       "<title>1888961776656</title>\r\n",
       "<polygon fill=\"lightblue\" stroke=\"black\" points=\"81.5,-817 12.5,-817 12.5,-782 81.5,-782 81.5,-817\"/>\r\n",
       "<text text-anchor=\"middle\" x=\"47\" y=\"-789.4\" font-family=\"Times New Roman,serif\" font-size=\"12.00\"> (6, 1, 3, 3)</text>\r\n",
       "</g>\r\n",
       "<!-- 1888961776656&#45;&gt;1888961777088 -->\r\n",
       "<g id=\"edge15\" class=\"edge\">\r\n",
       "<title>1888961776656&#45;&gt;1888961777088</title>\r\n",
       "<path fill=\"none\" stroke=\"black\" d=\"M57.72,-781.89C63.16,-773.46 69.77,-763.2 75.34,-754.58\"/>\r\n",
       "<polygon fill=\"black\" stroke=\"black\" points=\"78.38,-756.32 80.86,-746.02 72.5,-752.52 78.38,-756.32\"/>\r\n",
       "</g>\r\n",
       "<!-- 1888961775312 -->\r\n",
       "<g id=\"node17\" class=\"node\">\r\n",
       "<title>1888961775312</title>\r\n",
       "<polygon fill=\"lightblue\" stroke=\"black\" points=\"154,-817 100,-817 100,-782 154,-782 154,-817\"/>\r\n",
       "<text text-anchor=\"middle\" x=\"127\" y=\"-789.4\" font-family=\"Times New Roman,serif\" font-size=\"12.00\"> (6)</text>\r\n",
       "</g>\r\n",
       "<!-- 1888961775312&#45;&gt;1888961777088 -->\r\n",
       "<g id=\"edge16\" class=\"edge\">\r\n",
       "<title>1888961775312&#45;&gt;1888961777088</title>\r\n",
       "<path fill=\"none\" stroke=\"black\" d=\"M116.28,-781.89C110.84,-773.46 104.23,-763.2 98.66,-754.58\"/>\r\n",
       "<polygon fill=\"black\" stroke=\"black\" points=\"101.5,-752.52 93.14,-746.02 95.62,-756.32 101.5,-752.52\"/>\r\n",
       "</g>\r\n",
       "<!-- 1888961775456 -->\r\n",
       "<g id=\"node18\" class=\"node\">\r\n",
       "<title>1888961775456</title>\r\n",
       "<polygon fill=\"lightblue\" stroke=\"black\" points=\"267.5,-632 192.5,-632 192.5,-597 267.5,-597 267.5,-632\"/>\r\n",
       "<text text-anchor=\"middle\" x=\"230\" y=\"-604.4\" font-family=\"Times New Roman,serif\" font-size=\"12.00\"> (16, 6, 3, 3)</text>\r\n",
       "</g>\r\n",
       "<!-- 1888961775456&#45;&gt;1888961776848 -->\r\n",
       "<g id=\"edge17\" class=\"edge\">\r\n",
       "<title>1888961775456&#45;&gt;1888961776848</title>\r\n",
       "<path fill=\"none\" stroke=\"black\" d=\"M230,-596.89C230,-588.99 230,-579.5 230,-571.25\"/>\r\n",
       "<polygon fill=\"black\" stroke=\"black\" points=\"233.5,-571.02 230,-561.02 226.5,-571.02 233.5,-571.02\"/>\r\n",
       "</g>\r\n",
       "<!-- 1888961776992 -->\r\n",
       "<g id=\"node19\" class=\"node\">\r\n",
       "<title>1888961776992</title>\r\n",
       "<polygon fill=\"lightblue\" stroke=\"black\" points=\"340,-632 286,-632 286,-597 340,-597 340,-632\"/>\r\n",
       "<text text-anchor=\"middle\" x=\"313\" y=\"-604.4\" font-family=\"Times New Roman,serif\" font-size=\"12.00\"> (16)</text>\r\n",
       "</g>\r\n",
       "<!-- 1888961776992&#45;&gt;1888961776848 -->\r\n",
       "<g id=\"edge18\" class=\"edge\">\r\n",
       "<title>1888961776992&#45;&gt;1888961776848</title>\r\n",
       "<path fill=\"none\" stroke=\"black\" d=\"M290.76,-596.89C278.39,-587.65 263.1,-576.22 250.95,-567.15\"/>\r\n",
       "<polygon fill=\"black\" stroke=\"black\" points=\"252.85,-564.2 242.74,-561.02 248.66,-569.81 252.85,-564.2\"/>\r\n",
       "</g>\r\n",
       "<!-- 1888974364336 -->\r\n",
       "<g id=\"node20\" class=\"node\">\r\n",
       "<title>1888974364336</title>\r\n",
       "<polygon fill=\"lightgrey\" stroke=\"black\" points=\"394.5,-369 323.5,-369 323.5,-348 394.5,-348 394.5,-369\"/>\r\n",
       "<text text-anchor=\"middle\" x=\"359\" y=\"-355.4\" font-family=\"Times New Roman,serif\" font-size=\"12.00\">TBackward</text>\r\n",
       "</g>\r\n",
       "<!-- 1888974364336&#45;&gt;1888974364384 -->\r\n",
       "<g id=\"edge19\" class=\"edge\">\r\n",
       "<title>1888974364336&#45;&gt;1888974364384</title>\r\n",
       "<path fill=\"none\" stroke=\"black\" d=\"M342.45,-347.91C322.47,-336.32 288.65,-316.71 265.37,-303.21\"/>\r\n",
       "<polygon fill=\"black\" stroke=\"black\" points=\"266.81,-300 256.41,-298.01 263.3,-306.06 266.81,-300\"/>\r\n",
       "</g>\r\n",
       "<!-- 1888974364576 -->\r\n",
       "<g id=\"node21\" class=\"node\">\r\n",
       "<title>1888974364576</title>\r\n",
       "<polygon fill=\"lightblue\" stroke=\"black\" points=\"404.5,-447 335.5,-447 335.5,-412 404.5,-412 404.5,-447\"/>\r\n",
       "<text text-anchor=\"middle\" x=\"370\" y=\"-419.4\" font-family=\"Times New Roman,serif\" font-size=\"12.00\"> (120, 576)</text>\r\n",
       "</g>\r\n",
       "<!-- 1888974364576&#45;&gt;1888974364336 -->\r\n",
       "<g id=\"edge20\" class=\"edge\">\r\n",
       "<title>1888974364576&#45;&gt;1888974364336</title>\r\n",
       "<path fill=\"none\" stroke=\"black\" d=\"M367.34,-411.8C365.77,-401.96 363.78,-389.45 362.13,-379.14\"/>\r\n",
       "<polygon fill=\"black\" stroke=\"black\" points=\"365.55,-378.36 360.52,-369.04 358.64,-379.47 365.55,-378.36\"/>\r\n",
       "</g>\r\n",
       "<!-- 1888974364288 -->\r\n",
       "<g id=\"node22\" class=\"node\">\r\n",
       "<title>1888974364288</title>\r\n",
       "<polygon fill=\"lightgrey\" stroke=\"black\" points=\"374.5,-227 303.5,-227 303.5,-206 374.5,-206 374.5,-227\"/>\r\n",
       "<text text-anchor=\"middle\" x=\"339\" y=\"-213.4\" font-family=\"Times New Roman,serif\" font-size=\"12.00\">TBackward</text>\r\n",
       "</g>\r\n",
       "<!-- 1888974364288&#45;&gt;1888696089856 -->\r\n",
       "<g id=\"edge21\" class=\"edge\">\r\n",
       "<title>1888974364288&#45;&gt;1888696089856</title>\r\n",
       "<path fill=\"none\" stroke=\"black\" d=\"M325.23,-205.91C308.83,-194.47 281.22,-175.23 261.88,-161.75\"/>\r\n",
       "<polygon fill=\"black\" stroke=\"black\" points=\"263.85,-158.86 253.65,-156.01 259.85,-164.6 263.85,-158.86\"/>\r\n",
       "</g>\r\n",
       "<!-- 1888974364000 -->\r\n",
       "<g id=\"node23\" class=\"node\">\r\n",
       "<title>1888974364000</title>\r\n",
       "<polygon fill=\"lightblue\" stroke=\"black\" points=\"371.5,-305 308.5,-305 308.5,-270 371.5,-270 371.5,-305\"/>\r\n",
       "<text text-anchor=\"middle\" x=\"340\" y=\"-277.4\" font-family=\"Times New Roman,serif\" font-size=\"12.00\"> (84, 120)</text>\r\n",
       "</g>\r\n",
       "<!-- 1888974364000&#45;&gt;1888974364288 -->\r\n",
       "<g id=\"edge22\" class=\"edge\">\r\n",
       "<title>1888974364000&#45;&gt;1888974364288</title>\r\n",
       "<path fill=\"none\" stroke=\"black\" d=\"M339.76,-269.8C339.62,-259.96 339.43,-247.45 339.28,-237.14\"/>\r\n",
       "<polygon fill=\"black\" stroke=\"black\" points=\"342.78,-236.99 339.14,-227.04 335.78,-237.09 342.78,-236.99\"/>\r\n",
       "</g>\r\n",
       "<!-- 1888696090288 -->\r\n",
       "<g id=\"node24\" class=\"node\">\r\n",
       "<title>1888696090288</title>\r\n",
       "<polygon fill=\"lightgrey\" stroke=\"black\" points=\"374.5,-85 303.5,-85 303.5,-64 374.5,-64 374.5,-85\"/>\r\n",
       "<text text-anchor=\"middle\" x=\"339\" y=\"-71.4\" font-family=\"Times New Roman,serif\" font-size=\"12.00\">TBackward</text>\r\n",
       "</g>\r\n",
       "<!-- 1888696090288&#45;&gt;1888696089664 -->\r\n",
       "<g id=\"edge23\" class=\"edge\">\r\n",
       "<title>1888696090288&#45;&gt;1888696089664</title>\r\n",
       "<path fill=\"none\" stroke=\"black\" d=\"M323.53,-63.81C307.55,-53.8 282.39,-38.05 263.86,-26.44\"/>\r\n",
       "<polygon fill=\"black\" stroke=\"black\" points=\"265.69,-23.46 255.36,-21.12 261.98,-29.39 265.69,-23.46\"/>\r\n",
       "</g>\r\n",
       "<!-- 1888696089376 -->\r\n",
       "<g id=\"node25\" class=\"node\">\r\n",
       "<title>1888696089376</title>\r\n",
       "<polygon fill=\"lightblue\" stroke=\"black\" points=\"367.5,-163 310.5,-163 310.5,-128 367.5,-128 367.5,-163\"/>\r\n",
       "<text text-anchor=\"middle\" x=\"339\" y=\"-135.4\" font-family=\"Times New Roman,serif\" font-size=\"12.00\"> (10, 84)</text>\r\n",
       "</g>\r\n",
       "<!-- 1888696089376&#45;&gt;1888696090288 -->\r\n",
       "<g id=\"edge24\" class=\"edge\">\r\n",
       "<title>1888696089376&#45;&gt;1888696090288</title>\r\n",
       "<path fill=\"none\" stroke=\"black\" d=\"M339,-127.8C339,-117.96 339,-105.45 339,-95.14\"/>\r\n",
       "<polygon fill=\"black\" stroke=\"black\" points=\"342.5,-95.04 339,-85.04 335.5,-95.04 342.5,-95.04\"/>\r\n",
       "</g>\r\n",
       "</g>\r\n",
       "</svg>\r\n"
      ],
      "text/plain": [
       "<graphviz.dot.Digraph at 0x1b7bf0f3ee0>"
      ]
     },
     "execution_count": 14,
     "metadata": {},
     "output_type": "execute_result"
    }
   ],
   "source": [
    "make_dot(output)"
   ]
  },
  {
   "cell_type": "code",
   "execution_count": 15,
   "metadata": {
    "ExecuteTime": {
     "end_time": "2020-12-19T19:34:42.268515Z",
     "start_time": "2020-12-19T19:34:42.262531Z"
    }
   },
   "outputs": [],
   "source": [
    "transform = transforms.Compose(\n",
    "    [transforms.ToTensor(),\n",
    "    transforms.Normalize((.5,.5,.5), (.5,.5,.5))])"
   ]
  },
  {
   "cell_type": "code",
   "execution_count": 16,
   "metadata": {
    "ExecuteTime": {
     "end_time": "2020-12-19T19:34:44.074368Z",
     "start_time": "2020-12-19T19:34:42.531736Z"
    }
   },
   "outputs": [
    {
     "name": "stdout",
     "output_type": "stream",
     "text": [
      "Files already downloaded and verified\n",
      "Files already downloaded and verified\n"
     ]
    }
   ],
   "source": [
    "root = 'E:\\Vision'\n",
    "trainset = torchvision.datasets.CIFAR10(root=root, train=True, download=True, transform=transform)\n",
    "trainloader = torch.utils.data.DataLoader(trainset, batch_size=4, shuffle=True, num_workers=2)\n",
    "testset = torchvision.datasets.CIFAR10(root=root, train=False, download=True, transform=transform)\n",
    "testloader = torch.utils.data.DataLoader(testset, batch_size=4, shuffle=False, num_workers=2)\n",
    "classes = ('plane', 'car', 'bird', 'cat', 'deer', 'dog', 'frog', 'horse', 'ship', 'truck')"
   ]
  },
  {
   "cell_type": "code",
   "execution_count": 17,
   "metadata": {
    "ExecuteTime": {
     "end_time": "2020-12-19T19:34:44.089904Z",
     "start_time": "2020-12-19T19:34:44.075933Z"
    }
   },
   "outputs": [],
   "source": [
    "def imshow(img):\n",
    "    img = img / 2 + .5 # unnormalize\n",
    "    npimg = img.numpy()\n",
    "    plt.imshow(np.transpose(npimg, (1, 2, 0)))\n",
    "    plt.show()"
   ]
  },
  {
   "cell_type": "code",
   "execution_count": 18,
   "metadata": {
    "ExecuteTime": {
     "end_time": "2020-12-19T19:34:47.084433Z",
     "start_time": "2020-12-19T19:34:44.090900Z"
    }
   },
   "outputs": [
    {
     "data": {
      "image/png": "[encoded data removed]",
      "text/plain": [
       "<Figure size 432x288 with 1 Axes>"
      ]
     },
     "metadata": {
      "needs_background": "light"
     },
     "output_type": "display_data"
    },
    {
     "name": "stdout",
     "output_type": "stream",
     "text": [
      " ship truck   cat plane\n"
     ]
    }
   ],
   "source": [
    "# get a random training img\n",
    "dataiter = iter(trainloader)\n",
    "images, labels = dataiter.next()\n",
    "\n",
    "# show images\n",
    "imshow(torchvision.utils.make_grid(images))\n",
    "# print labels\n",
    "print(' '.join('%5s' % classes[labels[j]] for j in range(4)))"
   ]
  },
  {
   "cell_type": "code",
   "execution_count": 19,
   "metadata": {
    "ExecuteTime": {
     "end_time": "2020-12-19T19:34:47.100390Z",
     "start_time": "2020-12-19T19:34:47.085430Z"
    }
   },
   "outputs": [],
   "source": [
    "class Net(nn.Module):\n",
    "    def __init__(self):\n",
    "        super(Net, self).__init__()\n",
    "        self.conv1 = nn.Conv2d(3, 6, 5)\n",
    "        self.pool = nn.MaxPool2d(2, 2)\n",
    "        self.conv2 = nn.Conv2d(6, 16, 5)\n",
    "        self.fc1 = nn.Linear(16 * 5 * 5, 120)\n",
    "        self.fc2 = nn.Linear(120, 84)\n",
    "        self.fc3 = nn.Linear(84, 10)\n",
    "\n",
    "    def forward(self, x):\n",
    "        x = self.pool(F.relu(self.conv1(x)))\n",
    "        x = self.pool(F.relu(self.conv2(x)))\n",
    "        x = x.view(-1, 16 * 5 * 5)\n",
    "        x = F.relu(self.fc1(x))\n",
    "        x = F.relu(self.fc2(x))\n",
    "        x = self.fc3(x)\n",
    "        return x"
   ]
  },
  {
   "cell_type": "code",
   "execution_count": 20,
   "metadata": {
    "ExecuteTime": {
     "end_time": "2020-12-19T19:34:47.116347Z",
     "start_time": "2020-12-19T19:34:47.101387Z"
    }
   },
   "outputs": [],
   "source": [
    "net = Net()\n",
    "criterion = nn.CrossEntropyLoss()\n",
    "optimizer = optim.Adam(net.parameters(), lr=0.001)"
   ]
  },
  {
   "cell_type": "code",
   "execution_count": 21,
   "metadata": {
    "ExecuteTime": {
     "end_time": "2020-12-19T19:36:43.896891Z",
     "start_time": "2020-12-19T19:34:47.117344Z"
    }
   },
   "outputs": [
    {
     "name": "stdout",
     "output_type": "stream",
     "text": [
      "[1,  2000] loss: 1.884\n",
      "[1,  4000] loss: 1.599\n",
      "[1,  6000] loss: 1.487\n",
      "[1,  8000] loss: 1.420\n",
      "[1, 10000] loss: 1.384\n",
      "[1, 12000] loss: 1.354\n",
      "[2,  2000] loss: 1.611\n",
      "[2,  4000] loss: 1.269\n",
      "[2,  6000] loss: 1.236\n",
      "[2,  8000] loss: 1.222\n",
      "[2, 10000] loss: 1.238\n",
      "[2, 12000] loss: 1.197\n",
      "finished training\n"
     ]
    }
   ],
   "source": [
    "running_loss = 0\n",
    "for epoch in range(2):\n",
    "    for i, data in enumerate(trainloader, 0):\n",
    "        inputs, labels = data\n",
    "        optimizer.zero_grad()\n",
    "        \n",
    "        # forward, backward, optimize\n",
    "        outputs = net(inputs)\n",
    "        loss = criterion(outputs, labels)\n",
    "        loss.backward()\n",
    "        optimizer.step()\n",
    "        \n",
    "        # print stats\n",
    "        running_loss += loss.item()\n",
    "        steps = 2000\n",
    "        if i % steps == steps - 1: # print every 2000 minibatches\n",
    "            print('[%d, %5d] loss: %.3f' % (epoch + 1, i + 1, running_loss / steps))\n",
    "            running_loss = 0.\n",
    "print('finished training')"
   ]
  },
  {
   "cell_type": "code",
   "execution_count": 23,
   "metadata": {
    "ExecuteTime": {
     "end_time": "2020-12-19T19:36:45.901086Z",
     "start_time": "2020-12-19T19:36:45.617843Z"
    }
   },
   "outputs": [
    {
     "ename": "PermissionError",
     "evalue": "[Errno 13] Permission denied: 'E:\\\\Models\\\\pytorch_fun'",
     "output_type": "error",
     "traceback": [
      "\u001b[1;31m---------------------------------------------------------------------------\u001b[0m",
      "\u001b[1;31mPermissionError\u001b[0m                           Traceback (most recent call last)",
      "\u001b[1;32m<ipython-input-23-096c92e05810>\u001b[0m in \u001b[0;36m<module>\u001b[1;34m\u001b[0m\n\u001b[0;32m      1\u001b[0m \u001b[0mPATH\u001b[0m \u001b[1;33m=\u001b[0m \u001b[1;34m'E:\\Models\\pytorch_fun'\u001b[0m\u001b[1;33m\u001b[0m\u001b[1;33m\u001b[0m\u001b[0m\n\u001b[1;32m----> 2\u001b[1;33m \u001b[0mtorch\u001b[0m\u001b[1;33m.\u001b[0m\u001b[0msave\u001b[0m\u001b[1;33m(\u001b[0m\u001b[0mnet\u001b[0m\u001b[1;33m.\u001b[0m\u001b[0mstate_dict\u001b[0m\u001b[1;33m(\u001b[0m\u001b[1;33m)\u001b[0m\u001b[1;33m,\u001b[0m \u001b[0mPATH\u001b[0m\u001b[1;33m)\u001b[0m\u001b[1;33m\u001b[0m\u001b[1;33m\u001b[0m\u001b[0m\n\u001b[0m",
      "\u001b[1;32mC:\\ProgramData\\Anaconda3\\lib\\site-packages\\torch\\serialization.py\u001b[0m in \u001b[0;36msave\u001b[1;34m(obj, f, pickle_module, pickle_protocol, _use_new_zipfile_serialization)\u001b[0m\n\u001b[0;32m    367\u001b[0m     \u001b[0m_check_dill_version\u001b[0m\u001b[1;33m(\u001b[0m\u001b[0mpickle_module\u001b[0m\u001b[1;33m)\u001b[0m\u001b[1;33m\u001b[0m\u001b[1;33m\u001b[0m\u001b[0m\n\u001b[0;32m    368\u001b[0m \u001b[1;33m\u001b[0m\u001b[0m\n\u001b[1;32m--> 369\u001b[1;33m     \u001b[1;32mwith\u001b[0m \u001b[0m_open_file_like\u001b[0m\u001b[1;33m(\u001b[0m\u001b[0mf\u001b[0m\u001b[1;33m,\u001b[0m \u001b[1;34m'wb'\u001b[0m\u001b[1;33m)\u001b[0m \u001b[1;32mas\u001b[0m \u001b[0mopened_file\u001b[0m\u001b[1;33m:\u001b[0m\u001b[1;33m\u001b[0m\u001b[1;33m\u001b[0m\u001b[0m\n\u001b[0m\u001b[0;32m    370\u001b[0m         \u001b[1;32mif\u001b[0m \u001b[0m_use_new_zipfile_serialization\u001b[0m\u001b[1;33m:\u001b[0m\u001b[1;33m\u001b[0m\u001b[1;33m\u001b[0m\u001b[0m\n\u001b[0;32m    371\u001b[0m             \u001b[1;32mwith\u001b[0m \u001b[0m_open_zipfile_writer\u001b[0m\u001b[1;33m(\u001b[0m\u001b[0mopened_file\u001b[0m\u001b[1;33m)\u001b[0m \u001b[1;32mas\u001b[0m \u001b[0mopened_zipfile\u001b[0m\u001b[1;33m:\u001b[0m\u001b[1;33m\u001b[0m\u001b[1;33m\u001b[0m\u001b[0m\n",
      "\u001b[1;32mC:\\ProgramData\\Anaconda3\\lib\\site-packages\\torch\\serialization.py\u001b[0m in \u001b[0;36m_open_file_like\u001b[1;34m(name_or_buffer, mode)\u001b[0m\n\u001b[0;32m    228\u001b[0m \u001b[1;32mdef\u001b[0m \u001b[0m_open_file_like\u001b[0m\u001b[1;33m(\u001b[0m\u001b[0mname_or_buffer\u001b[0m\u001b[1;33m,\u001b[0m \u001b[0mmode\u001b[0m\u001b[1;33m)\u001b[0m\u001b[1;33m:\u001b[0m\u001b[1;33m\u001b[0m\u001b[1;33m\u001b[0m\u001b[0m\n\u001b[0;32m    229\u001b[0m     \u001b[1;32mif\u001b[0m \u001b[0m_is_path\u001b[0m\u001b[1;33m(\u001b[0m\u001b[0mname_or_buffer\u001b[0m\u001b[1;33m)\u001b[0m\u001b[1;33m:\u001b[0m\u001b[1;33m\u001b[0m\u001b[1;33m\u001b[0m\u001b[0m\n\u001b[1;32m--> 230\u001b[1;33m         \u001b[1;32mreturn\u001b[0m \u001b[0m_open_file\u001b[0m\u001b[1;33m(\u001b[0m\u001b[0mname_or_buffer\u001b[0m\u001b[1;33m,\u001b[0m \u001b[0mmode\u001b[0m\u001b[1;33m)\u001b[0m\u001b[1;33m\u001b[0m\u001b[1;33m\u001b[0m\u001b[0m\n\u001b[0m\u001b[0;32m    231\u001b[0m     \u001b[1;32melse\u001b[0m\u001b[1;33m:\u001b[0m\u001b[1;33m\u001b[0m\u001b[1;33m\u001b[0m\u001b[0m\n\u001b[0;32m    232\u001b[0m         \u001b[1;32mif\u001b[0m \u001b[1;34m'w'\u001b[0m \u001b[1;32min\u001b[0m \u001b[0mmode\u001b[0m\u001b[1;33m:\u001b[0m\u001b[1;33m\u001b[0m\u001b[1;33m\u001b[0m\u001b[0m\n",
      "\u001b[1;32mC:\\ProgramData\\Anaconda3\\lib\\site-packages\\torch\\serialization.py\u001b[0m in \u001b[0;36m__init__\u001b[1;34m(self, name, mode)\u001b[0m\n\u001b[0;32m    209\u001b[0m \u001b[1;32mclass\u001b[0m \u001b[0m_open_file\u001b[0m\u001b[1;33m(\u001b[0m\u001b[0m_opener\u001b[0m\u001b[1;33m)\u001b[0m\u001b[1;33m:\u001b[0m\u001b[1;33m\u001b[0m\u001b[1;33m\u001b[0m\u001b[0m\n\u001b[0;32m    210\u001b[0m     \u001b[1;32mdef\u001b[0m \u001b[0m__init__\u001b[0m\u001b[1;33m(\u001b[0m\u001b[0mself\u001b[0m\u001b[1;33m,\u001b[0m \u001b[0mname\u001b[0m\u001b[1;33m,\u001b[0m \u001b[0mmode\u001b[0m\u001b[1;33m)\u001b[0m\u001b[1;33m:\u001b[0m\u001b[1;33m\u001b[0m\u001b[1;33m\u001b[0m\u001b[0m\n\u001b[1;32m--> 211\u001b[1;33m         \u001b[0msuper\u001b[0m\u001b[1;33m(\u001b[0m\u001b[0m_open_file\u001b[0m\u001b[1;33m,\u001b[0m \u001b[0mself\u001b[0m\u001b[1;33m)\u001b[0m\u001b[1;33m.\u001b[0m\u001b[0m__init__\u001b[0m\u001b[1;33m(\u001b[0m\u001b[0mopen\u001b[0m\u001b[1;33m(\u001b[0m\u001b[0mname\u001b[0m\u001b[1;33m,\u001b[0m \u001b[0mmode\u001b[0m\u001b[1;33m)\u001b[0m\u001b[1;33m)\u001b[0m\u001b[1;33m\u001b[0m\u001b[1;33m\u001b[0m\u001b[0m\n\u001b[0m\u001b[0;32m    212\u001b[0m \u001b[1;33m\u001b[0m\u001b[0m\n\u001b[0;32m    213\u001b[0m     \u001b[1;32mdef\u001b[0m \u001b[0m__exit__\u001b[0m\u001b[1;33m(\u001b[0m\u001b[0mself\u001b[0m\u001b[1;33m,\u001b[0m \u001b[1;33m*\u001b[0m\u001b[0margs\u001b[0m\u001b[1;33m)\u001b[0m\u001b[1;33m:\u001b[0m\u001b[1;33m\u001b[0m\u001b[1;33m\u001b[0m\u001b[0m\n",
      "\u001b[1;31mPermissionError\u001b[0m: [Errno 13] Permission denied: 'E:\\\\Models\\\\pytorch_fun'"
     ]
    }
   ],
   "source": [
    "PATH = 'E:\\Models\\pytorch_fun\\poggers.pt'\n",
    "torch.save(net.state_dict(), PATH)"
   ]
  },
  {
   "cell_type": "code",
   "execution_count": 24,
   "metadata": {
    "ExecuteTime": {
     "end_time": "2020-12-19T19:37:18.081727Z",
     "start_time": "2020-12-19T19:37:18.039839Z"
    }
   },
   "outputs": [
    {
     "ename": "PermissionError",
     "evalue": "[Errno 13] Permission denied: './'",
     "output_type": "error",
     "traceback": [
      "\u001b[1;31m---------------------------------------------------------------------------\u001b[0m",
      "\u001b[1;31mPermissionError\u001b[0m                           Traceback (most recent call last)",
      "\u001b[1;32m<ipython-input-24-95d3af1aa264>\u001b[0m in \u001b[0;36m<module>\u001b[1;34m\u001b[0m\n\u001b[0;32m      1\u001b[0m \u001b[0mnog\u001b[0m \u001b[1;33m=\u001b[0m \u001b[0mpd\u001b[0m\u001b[1;33m.\u001b[0m\u001b[0mDataFrame\u001b[0m\u001b[1;33m(\u001b[0m\u001b[1;33m)\u001b[0m\u001b[1;33m\u001b[0m\u001b[1;33m\u001b[0m\u001b[0m\n\u001b[1;32m----> 2\u001b[1;33m \u001b[0mnog\u001b[0m\u001b[1;33m.\u001b[0m\u001b[0mto_csv\u001b[0m\u001b[1;33m(\u001b[0m\u001b[1;34m'./'\u001b[0m\u001b[1;33m)\u001b[0m\u001b[1;33m\u001b[0m\u001b[1;33m\u001b[0m\u001b[0m\n\u001b[0m",
      "\u001b[1;32mC:\\ProgramData\\Anaconda3\\lib\\site-packages\\pandas\\core\\generic.py\u001b[0m in \u001b[0;36mto_csv\u001b[1;34m(self, path_or_buf, sep, na_rep, float_format, columns, header, index, index_label, mode, encoding, compression, quoting, quotechar, line_terminator, chunksize, date_format, doublequote, escapechar, decimal, errors)\u001b[0m\n\u001b[0;32m   3168\u001b[0m             \u001b[0mdecimal\u001b[0m\u001b[1;33m=\u001b[0m\u001b[0mdecimal\u001b[0m\u001b[1;33m,\u001b[0m\u001b[1;33m\u001b[0m\u001b[1;33m\u001b[0m\u001b[0m\n\u001b[0;32m   3169\u001b[0m         )\n\u001b[1;32m-> 3170\u001b[1;33m         \u001b[0mformatter\u001b[0m\u001b[1;33m.\u001b[0m\u001b[0msave\u001b[0m\u001b[1;33m(\u001b[0m\u001b[1;33m)\u001b[0m\u001b[1;33m\u001b[0m\u001b[1;33m\u001b[0m\u001b[0m\n\u001b[0m\u001b[0;32m   3171\u001b[0m \u001b[1;33m\u001b[0m\u001b[0m\n\u001b[0;32m   3172\u001b[0m         \u001b[1;32mif\u001b[0m \u001b[0mpath_or_buf\u001b[0m \u001b[1;32mis\u001b[0m \u001b[1;32mNone\u001b[0m\u001b[1;33m:\u001b[0m\u001b[1;33m\u001b[0m\u001b[1;33m\u001b[0m\u001b[0m\n",
      "\u001b[1;32mC:\\ProgramData\\Anaconda3\\lib\\site-packages\\pandas\\io\\formats\\csvs.py\u001b[0m in \u001b[0;36msave\u001b[1;34m(self)\u001b[0m\n\u001b[0;32m    183\u001b[0m             \u001b[0mclose\u001b[0m \u001b[1;33m=\u001b[0m \u001b[1;32mFalse\u001b[0m\u001b[1;33m\u001b[0m\u001b[1;33m\u001b[0m\u001b[0m\n\u001b[0;32m    184\u001b[0m         \u001b[1;32melse\u001b[0m\u001b[1;33m:\u001b[0m\u001b[1;33m\u001b[0m\u001b[1;33m\u001b[0m\u001b[0m\n\u001b[1;32m--> 185\u001b[1;33m             f, handles = get_handle(\n\u001b[0m\u001b[0;32m    186\u001b[0m                 \u001b[0mself\u001b[0m\u001b[1;33m.\u001b[0m\u001b[0mpath_or_buf\u001b[0m\u001b[1;33m,\u001b[0m\u001b[1;33m\u001b[0m\u001b[1;33m\u001b[0m\u001b[0m\n\u001b[0;32m    187\u001b[0m                 \u001b[0mself\u001b[0m\u001b[1;33m.\u001b[0m\u001b[0mmode\u001b[0m\u001b[1;33m,\u001b[0m\u001b[1;33m\u001b[0m\u001b[1;33m\u001b[0m\u001b[0m\n",
      "\u001b[1;32mC:\\ProgramData\\Anaconda3\\lib\\site-packages\\pandas\\io\\common.py\u001b[0m in \u001b[0;36mget_handle\u001b[1;34m(path_or_buf, mode, encoding, compression, memory_map, is_text, errors)\u001b[0m\n\u001b[0;32m    491\u001b[0m         \u001b[1;32mif\u001b[0m \u001b[0mencoding\u001b[0m\u001b[1;33m:\u001b[0m\u001b[1;33m\u001b[0m\u001b[1;33m\u001b[0m\u001b[0m\n\u001b[0;32m    492\u001b[0m             \u001b[1;31m# Encoding\u001b[0m\u001b[1;33m\u001b[0m\u001b[1;33m\u001b[0m\u001b[1;33m\u001b[0m\u001b[0m\n\u001b[1;32m--> 493\u001b[1;33m             \u001b[0mf\u001b[0m \u001b[1;33m=\u001b[0m \u001b[0mopen\u001b[0m\u001b[1;33m(\u001b[0m\u001b[0mpath_or_buf\u001b[0m\u001b[1;33m,\u001b[0m \u001b[0mmode\u001b[0m\u001b[1;33m,\u001b[0m \u001b[0mencoding\u001b[0m\u001b[1;33m=\u001b[0m\u001b[0mencoding\u001b[0m\u001b[1;33m,\u001b[0m \u001b[0merrors\u001b[0m\u001b[1;33m=\u001b[0m\u001b[0merrors\u001b[0m\u001b[1;33m,\u001b[0m \u001b[0mnewline\u001b[0m\u001b[1;33m=\u001b[0m\u001b[1;34m\"\"\u001b[0m\u001b[1;33m)\u001b[0m\u001b[1;33m\u001b[0m\u001b[1;33m\u001b[0m\u001b[0m\n\u001b[0m\u001b[0;32m    494\u001b[0m         \u001b[1;32melif\u001b[0m \u001b[0mis_text\u001b[0m\u001b[1;33m:\u001b[0m\u001b[1;33m\u001b[0m\u001b[1;33m\u001b[0m\u001b[0m\n\u001b[0;32m    495\u001b[0m             \u001b[1;31m# No explicit encoding\u001b[0m\u001b[1;33m\u001b[0m\u001b[1;33m\u001b[0m\u001b[1;33m\u001b[0m\u001b[0m\n",
      "\u001b[1;31mPermissionError\u001b[0m: [Errno 13] Permission denied: './'"
     ]
    }
   ],
   "source": [
    "nog = pd.DataFrame()\n",
    "nog.to_csv('./')"
   ]
  },
  {
   "cell_type": "code",
   "execution_count": null,
   "metadata": {},
   "outputs": [],
   "source": []
  }
 ],
 "metadata": {
  "kernelspec": {
   "display_name": "Python 3",
   "language": "python",
   "name": "python3"
  },
  "language_info": {
   "codemirror_mode": {
    "name": "ipython",
    "version": 3
   },
   "file_extension": ".py",
   "mimetype": "text/x-python",
   "name": "python",
   "nbconvert_exporter": "python",
   "pygments_lexer": "ipython3",
   "version": "3.8.3"
  },
  "toc": {
   "base_numbering": 1,
   "nav_menu": {},
   "number_sections": true,
   "sideBar": true,
   "skip_h1_title": false,
   "title_cell": "Table of Contents",
   "title_sidebar": "Contents",
   "toc_cell": false,
   "toc_position": {},
   "toc_section_display": true,
   "toc_window_display": false
  }
 },
 "nbformat": 4,
 "nbformat_minor": 4
}
