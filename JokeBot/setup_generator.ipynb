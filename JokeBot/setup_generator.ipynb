{
 "metadata": {
  "language_info": {
   "codemirror_mode": {
    "name": "ipython",
    "version": 3
   },
   "file_extension": ".py",
   "mimetype": "text/x-python",
   "name": "python",
   "nbconvert_exporter": "python",
   "pygments_lexer": "ipython3",
   "version": "3.8.5-final"
  },
  "orig_nbformat": 2,
  "kernelspec": {
   "name": "python3",
   "display_name": "Python 3",
   "language": "python"
  }
 },
 "nbformat": 4,
 "nbformat_minor": 2,
 "cells": [
  {
   "cell_type": "code",
   "execution_count": 48,
   "metadata": {},
   "outputs": [],
   "source": [
    "import os\n",
    "import sys\n",
    "import random"
   ]
  },
  {
   "cell_type": "code",
   "execution_count": 17,
   "metadata": {},
   "outputs": [],
   "source": [
    "fpaths = ['./nouns_curated', './random_nouns.txt']"
   ]
  },
  {
   "cell_type": "code",
   "execution_count": 18,
   "metadata": {},
   "outputs": [],
   "source": [
    "def create_list_of_nouns(fpaths):\n",
    "    nouns = []\n",
    "    for path in fpaths:\n",
    "        with open(path, 'r') as f:\n",
    "            for line in f:\n",
    "                nouns.append(line.strip())\n",
    "    random.shuffle(nouns)\n",
    "    return nouns"
   ]
  },
  {
   "cell_type": "code",
   "execution_count": 19,
   "metadata": {},
   "outputs": [
    {
     "output_type": "execute_result",
     "data": {
      "text/plain": [
       "['appearance', 'AIDs', 'alcohol', 'sister', 'percentage']"
      ]
     },
     "metadata": {},
     "execution_count": 19
    }
   ],
   "source": [
    "nouns = create_list_of_nouns(fpaths)\n",
    "nouns[:5]"
   ]
  },
  {
   "cell_type": "code",
   "execution_count": 43,
   "metadata": {},
   "outputs": [],
   "source": [
    "class setup_blueprint():\n",
    "    def __init__(self, text, nouns=None, fpaths=None):\n",
    "        self.text = text\n",
    "        if fpaths is None: fpaths = ['./nouns_curated', './random_nouns.txt']\n",
    "        if nouns is None:\n",
    "            nouns = create_list_of_nouns(fpaths)\n",
    "        self.nouns = nouns\n",
    "        self.nouns_needed = text.count('NOUN')\n",
    "    def instance(self):\n",
    "        text = self.text\n",
    "        random.shuffle(self.nouns)\n",
    "        for i in range(self.nouns_needed):\n",
    "            text = text.replace('NOUN', self.nouns[i], 1)\n",
    "        return text"
   ]
  },
  {
   "cell_type": "code",
   "execution_count": 44,
   "metadata": {},
   "outputs": [
    {
     "output_type": "execute_result",
     "data": {
      "text/plain": [
       "2"
      ]
     },
     "metadata": {},
     "execution_count": 44
    }
   ],
   "source": [
    "string = 'NOUN anus pillion NOUN'\n",
    "# string = string.replace('NOUN' ,'fag', 1)\n",
    "string.count('NOUN')"
   ]
  },
  {
   "cell_type": "code",
   "execution_count": 45,
   "metadata": {},
   "outputs": [],
   "source": [
    "setup = setup_blueprint('a NOUN is like a NOUN...')"
   ]
  },
  {
   "cell_type": "code",
   "execution_count": 50,
   "metadata": {},
   "outputs": [
    {
     "output_type": "stream",
     "name": "stdout",
     "text": [
      "a shopping is like a context\na election is like a presentation\na significance is like a furries\na river is like a initiative\na sister is like a policy\n"
     ]
    }
   ],
   "source": [
    "setups = 5\n",
    "for _ in range(setups):\n",
    "    print(setup.instance())"
   ]
  },
  {
   "cell_type": "code",
   "execution_count": null,
   "metadata": {},
   "outputs": [],
   "source": []
  }
 ]
}