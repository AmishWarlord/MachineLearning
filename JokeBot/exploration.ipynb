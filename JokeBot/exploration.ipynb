{
 "cells": [
  {
   "cell_type": "code",
   "execution_count": 107,
   "metadata": {
    "ExecuteTime": {
     "end_time": "2020-12-11T20:51:39.740472Z",
     "start_time": "2020-12-11T20:51:39.732494Z"
    }
   },
   "outputs": [],
   "source": [
    "from bs4 import BeautifulSoup\n",
    "import numpy as np\n",
    "import pandas as pd\n",
    "import requests\n",
    "import re\n",
    "import tdqm"
   ]
  },
  {
   "cell_type": "code",
   "execution_count": 133,
   "metadata": {
    "ExecuteTime": {
     "end_time": "2020-12-11T21:05:05.283824Z",
     "start_time": "2020-12-11T21:05:05.276842Z"
    }
   },
   "outputs": [],
   "source": [
    "outpath = 'E:\\WordAssociations'\n",
    "\n",
    "def single_associations(word:str) :\n",
    "    \"\"\"\n",
    "    gets all word associations with a single word\n",
    "    :param word: word to be checked\n",
    "    :return:\n",
    "    \"\"\"\n",
    "    base_url = 'https://wordassociations.net/en/words-associated-with/'\n",
    "    url = base_url + word\n",
    "\n",
    "    page = requests.get(url)\n",
    "    assert str(page.status_code).startswith('2'), f'Page failed to load. Error code: {page.status_code}'\n",
    "\n",
    "    soup = BeautifulSoup(page.content, 'html.parser')\n",
    "    html = list(soup.children)[1]\n",
    "    body = list(html.children)[1]\n",
    "    n_container = list(list(body)[0])[1]\n",
    "    n_content = list(n_container)[4]\n",
    "    n_content_left = list(n_content)[0]\n",
    "    words_column = list(n_content_left)[0]\n",
    "    \n",
    "    noun_section = soup.find_all('div', class_='section NOUN-SECTION')\n",
    "    adj_section = soup.find_all('div', class_='section ADJECTIVE-SECTION')\n",
    "    verb_section = soup.find_all('div', class_='section VERB-SECTION')\n",
    "    adverb_section = soup.find_all('div', class_='section ADVERB-SECTION')\n",
    "    nouns, adjs, verbs, adverbs = set(), set(), set(), set()\n",
    "    if noun_section:\n",
    "        nouns = noun_section[0].find_all('a')\n",
    "        nouns = set(tag.text for tag in nouns)\n",
    "    if adj_section:\n",
    "        adjs = adj_section[0].find_all('a')\n",
    "        adjs = set(tag.text for tag in adjs)\n",
    "    if verb_section:\n",
    "        verbs = verb_section[0].find_all('a')\n",
    "        verbs = set(tag.text for tag in verbs)\n",
    "    if adverb_section:\n",
    "        adverbs = adverb_section[0].find_all('a')\n",
    "        adverbs = set(tag.text for tag in adverbs)\n",
    "    return nouns | adjs | verbs | adverbs"
   ]
  },
  {
   "cell_type": "code",
   "execution_count": 135,
   "metadata": {
    "ExecuteTime": {
     "end_time": "2020-12-11T21:05:06.271188Z",
     "start_time": "2020-12-11T21:05:06.258793Z"
    }
   },
   "outputs": [],
   "source": [
    "def double_associations(word1, word2):\n",
    "    set1 = single_associations(word1)\n",
    "    set2 = single_associations(word2)\n",
    "    return set1.intersection(set2)"
   ]
  },
  {
   "cell_type": "code",
   "execution_count": 136,
   "metadata": {
    "ExecuteTime": {
     "end_time": "2020-12-11T21:05:06.396350Z",
     "start_time": "2020-12-11T21:05:06.384357Z"
    }
   },
   "outputs": [],
   "source": [
    "def incept_associations(word1:str, word2:str, levels:int=2):\n",
    "    assert levels > 1\n",
    "    set1 = single_associations(word1)\n",
    "    set2 = single_associations(word2)\n",
    "    intersections = [set1.intersection(set2)]\n",
    "    for i in range(1, levels):\n",
    "        n_set1 = set1.copy()\n",
    "        n_set2 = set2.copy()\n",
    "        for w in set1 - set2:\n",
    "            n_set1 = n_set1 | single_associations(w)\n",
    "        for w in set2 - set1:\n",
    "            n_set2 = n_set2 | single_associations(w)\n",
    "        intersections.append(n_set1.intersection(n_set2) - intersections[0])\n",
    "    return intersections"
   ]
  },
  {
   "cell_type": "code",
   "execution_count": 143,
   "metadata": {
    "ExecuteTime": {
     "end_time": "2020-12-11T21:11:47.919393Z",
     "start_time": "2020-12-11T21:11:47.901441Z"
    }
   },
   "outputs": [],
   "source": [
    "def main():\n",
    "    print(double_association('wolf','music'))\n",
    "    common_words = incept_associations('wolf', 'music', levels=2)\n",
    "    for i, words in enumerate(common_words):\n",
    "        print(f'Level {i}:\\n{words}')"
   ]
  },
  {
   "cell_type": "code",
   "execution_count": 144,
   "metadata": {
    "ExecuteTime": {
     "end_time": "2020-12-11T21:13:46.340734Z",
     "start_time": "2020-12-11T21:11:48.445973Z"
    }
   },
   "outputs": [
    {
     "name": "stdout",
     "output_type": "stream",
     "text": [
      "set()\n",
      "Level 0:\n",
      "set()\n",
      "Level 1:\n",
      "{'Tori', 'Jump', 'Seal', 'Playhouse', 'Hercules', 'Whirl', 'Gillian', 'Noise', 'Visionary', 'Lamar', 'Johannes', 'Lore', 'Mickey', 'Barley', 'Fiddle', 'Ives', 'Assortment', 'Swing', 'Fry', 'Heavy', 'Cracker', 'Folder', 'Evaporate', 'Combo', 'Henrik', 'Donkey', 'Celtic', 'Babylon', 'Keats', 'Nyc', 'Royale', 'Techno', 'Rocker', 'Composer', 'Sacred', 'Jakob', 'Robbie', 'Presenter', 'Paced', 'Syriac', 'Trojan', 'Monterey', 'Peterborough', 'Gutter', 'Orpheus', 'Brewing', 'Growl', 'Carole', 'Revelation', 'Sonnet', 'Keynes', 'Spears', 'Ankara', 'Biblical', 'Ninth', 'Audience', 'Karma', 'Thriller', 'Quintet', 'Madonna', 'Cm', 'Avatar', 'Mesopotamia', 'Torrent', 'Cursing', 'Pear', 'Freestyle', 'Resurrection', 'Kingston', 'Van', 'Nickel', 'Cincinnati', 'Sebastian', 'Flat', 'Quixote', 'Nate', 'Monumental', 'Rage', 'Horror', 'Lobo', 'Alejandro', 'Godfather', 'Gee', 'Headlight', 'Jackson', 'Mammal', 'Vladimir', 'Brew', 'Dd', 'Andreas', 'Bully', 'Vapor', 'Superhero', 'Christensen', 'Brewery', 'Fm', 'Whistling', 'Antarctica', 'Liberator', 'Santana', 'Bram', 'Ellington', 'Sven', 'Roasted', 'Gallows', 'Picasso', 'Alphonse', 'Petersburg', 'Flickering', 'Mustard', 'Trampled', 'Rufus', 'Mccartney', 'Blast', 'Aspen', 'Metamorphosis', 'Idly', 'Riva', 'Colchester', 'Quartet', 'Dynamo', 'Passageway', 'Rate', 'Recycle', 'Goodly', 'Breakout', 'Wanderer', 'Gibbon', 'Manners', 'Nimitz', 'Como', 'Fiesta', 'Reddy', 'Kal', 'Va', 'Woe', 'Ingrid', 'Rune', 'Kiev', 'Ernie', 'Tundra', 'Adaptation', 'Animated', 'Sonar', 'Buttock', 'Indra', 'Bonn', 'Star', 'Prometheus', 'Yeah', 'Coliseum', 'Jens', 'Riddle', 'Di', 'Jingle', 'Railing', 'App', 'Merle', 'Brat', 'Ming', 'Packaging', 'Karin', 'Grease', 'Alvin', 'Monkey', 'Parody', 'Russian', 'Rom', 'Fluorescence', 'Carton', 'Mad', 'Nielsen', 'Mediaeval', 'Odessa', 'Rock', 'Hammer', 'Draught', 'Mirage', 'Pupil', 'Squirrel', 'Hit', 'Stair', 'Musically', 'Greater', 'Evaporation', 'Graffito', 'Freak', 'Viva', 'Ale', 'Worcester', 'Prize', 'Outstanding', 'Cheltenham', 'Congregational', 'Temperature', 'Channel', 'Televise', 'Goth', 'Fleetwood', 'Riff', 'Alchemist', 'Staple', 'Una', 'Plump', 'Network', 'Castor', 'Prom', 'Cairn', 'Novella', 'Nazareth', 'Ash', 'Herder', 'Layered', 'Bob', 'Shovel', 'Norwich', 'Encore', 'Loose', 'Ole', 'Vial', 'Prodigy', 'Nexus', 'Antelope', 'Hc', 'Adult', 'Hiss', 'Picturesque', 'Clothing', 'Topping', 'Major', 'Nirvana', 'Inductee', 'Chill', 'Lean', 'Shetland', 'Document', 'Devotee', 'Pounding', 'Mermaid', 'Zeppelin', 'Faust', 'Elm', 'Serge', 'Slung', 'Nikolai', 'Track', 'Punch', 'Clapton', 'Vapour', 'Kell', 'Larva', 'Varsity', 'Mather', 'Spawn', 'Bunny', 'Finalist', 'Toronto', 'Myth', 'Wesleyan', 'Apostles', 'Horn', 'Interactive', 'Alvarez', 'Drug', 'Dish', 'Juliet', 'Mafia', 'Anton', 'Sioux', 'Wembley', 'Presley', 'Greenhouse', 'Knoll', 'Buster', 'Vibe', 'Shamanism', 'Cymbal', 'Funky', 'Saturation', 'Up', 'Muscle', 'Paulo', 'Leningrad', 'Lick', 'Nationality', 'Uzbek', 'Air', 'Bring', 'Gloucester', 'Surfer', 'Morbid', 'Cherry', 'Yeast', 'Dude', 'Airing', 'Pairing', 'Boston', 'Compile', 'Orb', 'Pseudo', 'Manny', 'Quiver', 'Chilled', 'Cunning', 'Tsar', 'Android', 'Damian', 'Comedy', 'Romantic', 'Sounding', 'Authorship', 'Trinity', 'Madly', 'Chico', 'Usher', 'Gaga', 'Capitol', 'Sparkle', 'Graceful', 'Bergen', 'Reprise', 'Underground', 'Vertebra', 'Epistle', 'Torso', 'Enroll', 'Masked', 'Liverpool', 'Amour', 'Hum', 'Cinderella', 'Immortal', 'Credit', 'Collegiate', 'Maple', 'Starred', 'Codex', 'Dodd', 'Conservatory', 'Dread', 'Beech', 'Fischer', 'Fiction', 'Roast', 'Beer', 'Limestone', 'Nutrition', 'Resident', 'Prologue', 'Panic', 'Ashton', 'Dey', 'Curse', 'Underwood', 'Golden', 'Isotope', 'Trout', 'Slice', 'Silt', 'Fuck', 'Offspring', 'Chili', 'Cartoon', 'Alicia', 'Holster', 'Bournemouth', 'Sergei', 'Pace', 'Semiconductor', 'Sus', 'Electron', 'Livingston', 'Cock', 'Flex', 'Pickle', 'Anu', 'Bottle', 'Dizzy', 'Worm', 'Francesco', 'Ram', 'Dated', 'Textile', 'Frog', 'Gothic', 'Shelve', 'Movie', 'Alexei', 'Review', 'Russo', 'Closet', 'Fauna', 'Trot', 'Fur', 'Dmitri', 'Gao', 'Danish', 'Martini', 'Mutant', 'Og', 'Sitting', 'Aleksandr', 'Sammy', 'Pink', 'Cw', 'Cathedral', 'Orchestrate', 'Torino', 'Tempest', 'Icon', 'Sinatra', 'Warmer', 'Dillon', 'Dolly', 'Roll', 'Comic', 'Brill', 'Utopia', 'Twig', 'Perch', 'Apocalyptic', 'Wild', 'Subterranean', 'Nitrogen', 'Commercial', 'Sleeping', 'Strut', 'Jubilee', 'Zee', 'Showtime', 'Scabbard', 'Tong', 'Package', 'Elvis', 'Montreal', 'Emptied', 'Abbott', 'Insulation', 'Basalt', 'Neatly', 'Coke', 'Rabbit', 'Birch', 'Humming', 'Jury', 'Rotary', 'Broadcast', 'Kenny', 'Cycle', 'Line', 'Kane', 'Folklore', 'Rama', 'Idol', 'Tapestry', 'Este', 'Thom', 'Leaping', 'Bubble', 'Lindsey', 'Progressive', 'Salad', 'Ppm', 'Banjo', 'Metal', 'Manfred', 'Feldman', 'Taste', 'Cbc', 'Sicilian', 'Genetically', 'Stanza', 'Ingestion', 'Delle', 'Pepsi', 'Telecast', 'Frontman', 'Probe', 'New', 'Nymph', 'Glee', 'Waist', 'Kingfisher', 'Beat', 'Posse', 'Requiem', 'Minsk', 'Motion', 'Haydn', 'Diode', 'Marty', 'Crossover', 'Oriented', 'Processed', 'Merry', 'Dimly', 'Rattle', 'Soda', 'Scoop', 'Branding', 'Apostle', 'Emil', 'Craft', 'Kangaroo', 'Turtle', 'Gospel', 'Imagery', 'Drama', 'Stork', 'Sand', 'Feed', 'Marley', 'Voodoo', 'Claus', 'Flicker', 'Harvest', 'Locust', 'Groom', 'Grove', 'Wardrobe', 'Aired', 'Lowe', 'Poetic', 'Ankle', 'Hot', 'Paramount', 'Ambient', 'Cinematic', 'Kilkenny', 'Boo', 'Smallpox', 'Loud', 'Primal', 'Pyramid', 'Hilary', 'Elevator', 'Masonic', 'Despair', 'Socket', 'Mythological', 'Nashville', 'Masquerade', 'Maturity', 'Auschwitz', 'Wave', 'Stairway', 'Spine', 'Sirius', 'Sweet', 'Liquid', 'Ballroom', 'Richie', 'Poem', 'Madeline', 'Edison', 'Bluegrass', 'Def', 'Jug', 'Alla', 'Laguna', 'Drone', 'Kern', 'Asbestos', 'Magma', 'Philology', 'Arcade', 'Redefine', 'Recess', 'Sanchez', 'Wu', 'Rib', 'Josh', 'Teen', 'Pop', 'Huddersfield', 'Lonesome', 'Fda', 'Messiah', 'Canonical', 'Flick', 'Shelley', 'Concord', 'Classic', 'Bitch', 'Awkwardly', 'Shuffle', 'Magical', 'Downloadable', 'Cucumber', 'Crust', 'Hereford', 'Piece', 'Ign', 'Adler', 'Apocalypse', 'Cooling', 'Dry', 'Playful', 'Brown', 'Parlour', 'Cultivar', 'Susquehanna', 'Patti', 'Coleridge', 'Sedimentary', 'Triple', 'Slow', 'Holm', 'Blink', 'Peak', 'Frenzy', 'Kitten', 'Evangelist', 'News', 'Dow', 'Reissue', 'Wainwright', 'Droplet', 'Wanda', 'Programming', 'Doo', 'Alternate', 'Spectrometry', 'Film', 'Shale', 'Sample', 'Swami', 'Stylize', 'Spp', 'Knock', 'Free', 'Berliner', 'Teenage', 'Conglomerate', 'Wildly', 'Parable', 'Ska', 'Puppet', 'Shaggy', 'Lightly', 'Choke', 'Hartford', 'Pump', 'Nugget', 'Orlando', 'Daddy', 'Garfield', 'Cursed', 'Eucharist', 'Krishna', 'Instrumental', 'Yale', 'Lament', 'Strapped', 'Special', 'Disney', 'Pumping', 'Wordsworth', 'Cedar', 'Tout', 'Marius', 'Magazine', 'Spin', 'Toad', 'Popular', 'Yam', 'Dickens', 'Rustic', 'Nag', 'Interstate', 'Wilde', 'Carbonate', 'Domino', 'Bad', 'Mushroom', 'Boxed', 'Wandering', 'Nils', 'Elton', 'Slab', 'Viper', 'Ingredient', 'Brazilian', 'Romance', 'Boris', 'Dioxide', 'Hoop', 'Woodstock', 'Commemoration', 'Mournful', 'Storm', 'Fairy', 'Stevie', 'Nightclub', 'Goes', 'Casa', 'Sandstone', 'Artist', 'Scratch', 'Modern', 'Heathen', 'Jam', 'Calorie', 'Nickelodeon', 'Pollutant', 'Ufc', 'Hind', 'Dresden', 'Gang', 'Detroit', 'Phantom', 'Negative', 'Site', 'Une', 'Punk', 'Collaborate', 'Vodka', 'Debbie', 'Seawater', 'Candy', 'Clap', 'Prose', 'Scripted', 'Serial', 'Wrestle', 'Grandmaster', 'Capacitor', 'Jungle', 'Chicken', 'Rhodes', 'Tiny', 'Pelvic', 'Wiener', 'Raw', 'Gymnast', 'Milwaukee', 'Canadian', 'Radar', 'Pluck', 'Moscow', 'Maiden', 'Bach', 'Fable', 'Gardiner', 'Oslo', 'Twins', 'Chanting', 'Concerto', 'Drinking', 'Dogs', 'Portable', 'Starr', 'Fever', 'Symphony', 'Archaeology', 'Vanilla', 'Fan', 'Cramer', 'Paste', 'Scenic', 'Igor', 'Sauce', 'Skid', 'Color', 'Shouting', 'Browser', 'Hiram', 'Bio', 'Slim', 'Rodrigo', 'Credited', 'Testament', 'Fracture', 'Whirling', 'Melodrama', 'Autograph', 'Deaf', 'Burrow', 'Wolfgang', 'Tko', 'Necked', 'Halftime', 'Canister', 'Khan', 'Frankie', 'Superstition', 'Electric', 'Tempered', 'Collier'}\n"
     ]
    }
   ],
   "source": [
    "if __name__ == '__main__':\n",
    "    main()"
   ]
  },
  {
   "cell_type": "code",
   "execution_count": null,
   "metadata": {
    "ExecuteTime": {
     "end_time": "2020-12-11T20:13:15.539304Z",
     "start_time": "2020-12-11T20:13:15.523348Z"
    }
   },
   "outputs": [],
   "source": []
  },
  {
   "cell_type": "code",
   "execution_count": null,
   "metadata": {},
   "outputs": [],
   "source": []
  }
 ],
 "metadata": {
  "kernelspec": {
   "display_name": "Python 3",
   "language": "python",
   "name": "python3"
  },
  "language_info": {
   "codemirror_mode": {
    "name": "ipython",
    "version": 3
   },
   "file_extension": ".py",
   "mimetype": "text/x-python",
   "name": "python",
   "nbconvert_exporter": "python",
   "pygments_lexer": "ipython3",
   "version": "3.8.3"
  },
  "toc": {
   "base_numbering": 1,
   "nav_menu": {},
   "number_sections": true,
   "sideBar": true,
   "skip_h1_title": false,
   "title_cell": "Table of Contents",
   "title_sidebar": "Contents",
   "toc_cell": false,
   "toc_position": {},
   "toc_section_display": true,
   "toc_window_display": false
  }
 },
 "nbformat": 4,
 "nbformat_minor": 4
}
